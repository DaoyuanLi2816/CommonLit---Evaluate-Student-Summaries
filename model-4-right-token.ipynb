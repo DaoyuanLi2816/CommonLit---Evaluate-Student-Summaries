{
 "cells": [
  {
   "cell_type": "code",
   "execution_count": 1,
   "id": "cac2ca19",
   "metadata": {
    "_cell_guid": "b1076dfc-b9ad-4769-8c92-a6c4dae69d19",
    "_uuid": "8f2839f25d086af736a60e9eeb907d3b93b6e0e5",
    "execution": {
     "iopub.execute_input": "2023-10-08T08:15:59.883842Z",
     "iopub.status.busy": "2023-10-08T08:15:59.883194Z",
     "iopub.status.idle": "2023-10-08T08:17:06.122664Z",
     "shell.execute_reply": "2023-10-08T08:17:06.121555Z"
    },
    "papermill": {
     "duration": 66.248803,
     "end_time": "2023-10-08T08:17:06.124947",
     "exception": false,
     "start_time": "2023-10-08T08:15:59.876144",
     "status": "completed"
    },
    "tags": []
   },
   "outputs": [
    {
     "name": "stdout",
     "output_type": "stream",
     "text": [
      "Processing /kaggle/input/autocorrect/autocorrect-2.6.1.tar\r\n",
      "  Preparing metadata (setup.py) ... \u001b[?25l-\b \b\\\b \bdone\r\n",
      "\u001b[?25hBuilding wheels for collected packages: autocorrect\r\n",
      "  Building wheel for autocorrect (setup.py) ... \u001b[?25l-\b \b\\\b \bdone\r\n",
      "\u001b[?25h  Created wheel for autocorrect: filename=autocorrect-2.6.1-py3-none-any.whl size=622383 sha256=a3e36065b9886c7aef47b567732100f02bb392934492d4c7b16209bcf12614e1\r\n",
      "  Stored in directory: /root/.cache/pip/wheels/db/69/42/0fb0421d2fe70d195a04665edc760cfe5fd341d7bb8d8e0aaa\r\n",
      "Successfully built autocorrect\r\n",
      "Installing collected packages: autocorrect\r\n",
      "Successfully installed autocorrect-2.6.1\r\n",
      "Processing /kaggle/input/pyspellchecker/pyspellchecker-0.7.2-py3-none-any.whl\r\n",
      "Installing collected packages: pyspellchecker\r\n",
      "Successfully installed pyspellchecker-0.7.2\r\n"
     ]
    }
   ],
   "source": [
    "!pip install \"/kaggle/input/autocorrect/autocorrect-2.6.1.tar\"\n",
    "!pip install \"/kaggle/input/pyspellchecker/pyspellchecker-0.7.2-py3-none-any.whl\""
   ]
  },
  {
   "cell_type": "code",
   "execution_count": 2,
   "id": "b2a49c62",
   "metadata": {
    "execution": {
     "iopub.execute_input": "2023-10-08T08:17:06.138847Z",
     "iopub.status.busy": "2023-10-08T08:17:06.138110Z",
     "iopub.status.idle": "2023-10-08T08:17:23.175330Z",
     "shell.execute_reply": "2023-10-08T08:17:23.174428Z"
    },
    "papermill": {
     "duration": 17.046205,
     "end_time": "2023-10-08T08:17:23.177396",
     "exception": false,
     "start_time": "2023-10-08T08:17:06.131191",
     "status": "completed"
    },
    "tags": []
   },
   "outputs": [
    {
     "name": "stderr",
     "output_type": "stream",
     "text": [
      "/opt/conda/lib/python3.10/site-packages/scipy/__init__.py:146: UserWarning: A NumPy version >=1.16.5 and <1.23.0 is required for this version of SciPy (detected version 1.23.5\n",
      "  warnings.warn(f\"A NumPy version >={np_minversion} and <{np_maxversion}\"\n",
      "/opt/conda/lib/python3.10/site-packages/tensorflow_io/python/ops/__init__.py:98: UserWarning: unable to load libtensorflow_io_plugins.so: unable to open file: libtensorflow_io_plugins.so, from paths: ['/opt/conda/lib/python3.10/site-packages/tensorflow_io/python/ops/libtensorflow_io_plugins.so']\n",
      "caused by: ['/opt/conda/lib/python3.10/site-packages/tensorflow_io/python/ops/libtensorflow_io_plugins.so: undefined symbol: _ZN3tsl6StatusC1EN10tensorflow5error4CodeESt17basic_string_viewIcSt11char_traitsIcEENS_14SourceLocationE']\n",
      "  warnings.warn(f\"unable to load libtensorflow_io_plugins.so: {e}\")\n",
      "/opt/conda/lib/python3.10/site-packages/tensorflow_io/python/ops/__init__.py:104: UserWarning: file system plugins are not loaded: unable to open file: libtensorflow_io.so, from paths: ['/opt/conda/lib/python3.10/site-packages/tensorflow_io/python/ops/libtensorflow_io.so']\n",
      "caused by: ['/opt/conda/lib/python3.10/site-packages/tensorflow_io/python/ops/libtensorflow_io.so: undefined symbol: _ZTVN10tensorflow13GcsFileSystemE']\n",
      "  warnings.warn(f\"file system plugins are not loaded: {e}\")\n"
     ]
    }
   ],
   "source": [
    "from typing import List\n",
    "import numpy as np\n",
    "import pandas as pd\n",
    "import warnings\n",
    "import logging\n",
    "import os\n",
    "import shutil\n",
    "import json\n",
    "import transformers\n",
    "from transformers import AutoModel, AutoTokenizer, AutoConfig, AutoModelForSequenceClassification\n",
    "from transformers import DataCollatorWithPadding\n",
    "from datasets import Dataset,load_dataset, load_from_disk\n",
    "from transformers import TrainingArguments, Trainer\n",
    "from datasets import load_metric, disable_progress_bar\n",
    "from sklearn.metrics import mean_squared_error\n",
    "import torch\n",
    "from sklearn.model_selection import KFold, GroupKFold\n",
    "from tqdm import tqdm\n",
    "\n",
    "import nltk\n",
    "from nltk.corpus import stopwords\n",
    "from nltk.tokenize import word_tokenize\n",
    "from nltk.tokenize.treebank import TreebankWordDetokenizer\n",
    "from collections import Counter\n",
    "import spacy\n",
    "import re\n",
    "from autocorrect import Speller\n",
    "from spellchecker import SpellChecker\n",
    "import lightgbm as lgb\n",
    "\n",
    "warnings.simplefilter(\"ignore\")\n",
    "logging.disable(logging.ERROR)\n",
    "os.environ[\"TOKENIZERS_PARALLELISM\"] = \"false\"\n",
    "os.environ['TF_CPP_MIN_LOG_LEVEL'] = '3' \n",
    "disable_progress_bar()\n",
    "tqdm.pandas()\n",
    "def seed_everything(seed: int):\n",
    "    import random, os\n",
    "    import numpy as np\n",
    "    import torch\n",
    "    \n",
    "    random.seed(seed)\n",
    "    os.environ['PYTHONHASHSEED'] = str(seed)\n",
    "    np.random.seed(seed)\n",
    "    torch.manual_seed(seed)\n",
    "    torch.cuda.manual_seed(seed)\n",
    "    torch.backends.cudnn.deterministic = True\n",
    "    torch.backends.cudnn.benchmark = True\n",
    "    \n",
    "seed_everything(seed=3407)\n",
    "DATA_DIR = \"/kaggle/input/commonlit-evaluate-student-summaries/\"\n",
    "prompts_train = pd.read_csv(DATA_DIR + \"prompts_train.csv\")\n",
    "prompts_test = pd.read_csv(DATA_DIR + \"prompts_test.csv\")\n",
    "summaries_train = pd.read_csv(DATA_DIR + \"summaries_train.csv\")\n",
    "summaries_test = pd.read_csv(DATA_DIR + \"summaries_test.csv\")\n",
    "sample_submission = pd.read_csv(DATA_DIR + \"sample_submission.csv\")"
   ]
  },
  {
   "cell_type": "code",
   "execution_count": 3,
   "id": "bbb3f090",
   "metadata": {
    "execution": {
     "iopub.execute_input": "2023-10-08T08:17:23.190589Z",
     "iopub.status.busy": "2023-10-08T08:17:23.190394Z",
     "iopub.status.idle": "2023-10-08T08:17:23.195114Z",
     "shell.execute_reply": "2023-10-08T08:17:23.194182Z"
    },
    "papermill": {
     "duration": 0.013102,
     "end_time": "2023-10-08T08:17:23.196808",
     "exception": false,
     "start_time": "2023-10-08T08:17:23.183706",
     "status": "completed"
    },
    "tags": []
   },
   "outputs": [],
   "source": [
    "class CFG:\n",
    "    model_name_1 = \"debertav3base\"\n",
    "    model_name_2 = \"debertav3large\"\n",
    "    model_name_3 = \"robertalarge\"\n",
    "    model_name_4 = \"debertav3huge\"#使用自己开源的huge版本\n",
    "    model_name_5 = \"debertav3base_single\"## 使用目前开源的最高分的baseline\n",
    "    \n",
    "    learning_rate=0.000015  #0.000015\n",
    "    weight_decay=0.03        #0.02\n",
    "    hidden_dropout_prob=0.1\n",
    "    attention_probs_dropout_prob=0.1\n",
    "    num_train_epochs=5\n",
    "    n_splits=4\n",
    "    batch_size=12\n",
    "    random_seed=42\n",
    "    save_steps=100\n",
    "    max_length=512"
   ]
  },
  {
   "cell_type": "markdown",
   "id": "638568ab",
   "metadata": {
    "papermill": {
     "duration": 0.005582,
     "end_time": "2023-10-08T08:17:23.208166",
     "exception": false,
     "start_time": "2023-10-08T08:17:23.202584",
     "status": "completed"
    },
    "tags": []
   },
   "source": [
    "## Dataload"
   ]
  },
  {
   "cell_type": "code",
   "execution_count": 4,
   "id": "704ebb2e",
   "metadata": {
    "execution": {
     "iopub.execute_input": "2023-10-08T08:17:23.220931Z",
     "iopub.status.busy": "2023-10-08T08:17:23.220751Z",
     "iopub.status.idle": "2023-10-08T08:17:24.391006Z",
     "shell.execute_reply": "2023-10-08T08:17:24.389496Z"
    },
    "papermill": {
     "duration": 1.179205,
     "end_time": "2023-10-08T08:17:24.393164",
     "exception": false,
     "start_time": "2023-10-08T08:17:23.213959",
     "status": "completed"
    },
    "tags": []
   },
   "outputs": [],
   "source": [
    "class Preprocessor:\n",
    "    def __init__(self, \n",
    "                model_name: str,\n",
    "                ) -> None:\n",
    "        self.tokenizer = AutoTokenizer.from_pretrained(f\"/kaggle/input/{model_name}\")\n",
    "        self.twd = TreebankWordDetokenizer()\n",
    "        self.STOP_WORDS = set(stopwords.words('english'))\n",
    "        \n",
    "        self.spacy_ner_model = spacy.load('en_core_web_sm',)\n",
    "        self.speller = Speller(lang='en')\n",
    "        self.spellchecker = SpellChecker() \n",
    "        \n",
    "    def word_overlap_count(self, row):\n",
    "        \"\"\" intersection(prompt_text, text) \"\"\"        \n",
    "        def check_is_stop_word(word):\n",
    "            return word in self.STOP_WORDS\n",
    "        \n",
    "        prompt_words = row['prompt_tokens']\n",
    "        summary_words = row['summary_tokens']\n",
    "        if self.STOP_WORDS:\n",
    "            prompt_words = list(filter(check_is_stop_word, prompt_words))\n",
    "            summary_words = list(filter(check_is_stop_word, summary_words))\n",
    "        return len(set(prompt_words).intersection(set(summary_words)))\n",
    "            \n",
    "    def ngrams(self, token, n):\n",
    "        # Use the zip function to help us generate n-grams\n",
    "        # Concatentate the tokens into ngrams and return\n",
    "        ngrams = zip(*[token[i:] for i in range(n)])\n",
    "        return [\" \".join(ngram) for ngram in ngrams]\n",
    "\n",
    "    def ngram_co_occurrence(self, row, n: int) -> int:\n",
    "        # Tokenize the original text and summary into words\n",
    "        original_tokens = row['prompt_tokens']\n",
    "        summary_tokens = row['summary_tokens']\n",
    "\n",
    "        # Generate n-grams for the original text and summary\n",
    "        original_ngrams = set(self.ngrams(original_tokens, n))\n",
    "        summary_ngrams = set(self.ngrams(summary_tokens, n))\n",
    "\n",
    "        # Calculate the number of common n-grams\n",
    "        common_ngrams = original_ngrams.intersection(summary_ngrams)\n",
    "        return len(common_ngrams)\n",
    "    \n",
    "    def ner_overlap_count(self, row, mode:str):\n",
    "        model = self.spacy_ner_model\n",
    "        def clean_ners(ner_list):\n",
    "            return set([(ner[0].lower(), ner[1]) for ner in ner_list])\n",
    "        prompt = model(row['prompt_text'])\n",
    "        summary = model(row['text'])\n",
    "\n",
    "        if \"spacy\" in str(model):\n",
    "            prompt_ner = set([(token.text, token.label_) for token in prompt.ents])\n",
    "            summary_ner = set([(token.text, token.label_) for token in summary.ents])\n",
    "        elif \"stanza\" in str(model):\n",
    "            prompt_ner = set([(token.text, token.type) for token in prompt.ents])\n",
    "            summary_ner = set([(token.text, token.type) for token in summary.ents])\n",
    "        else:\n",
    "            raise Exception(\"Model not supported\")\n",
    "\n",
    "        prompt_ner = clean_ners(prompt_ner)\n",
    "        summary_ner = clean_ners(summary_ner)\n",
    "\n",
    "        intersecting_ners = prompt_ner.intersection(summary_ner)\n",
    "        \n",
    "        ner_dict = dict(Counter([ner[1] for ner in intersecting_ners]))\n",
    "        \n",
    "        if mode == \"train\":\n",
    "            return ner_dict\n",
    "        elif mode == \"test\":\n",
    "            return {key: ner_dict.get(key) for key in self.ner_keys}\n",
    "\n",
    "    \n",
    "    def quotes_count(self, row):\n",
    "        summary = row['text']\n",
    "        text = row['prompt_text']\n",
    "        quotes_from_summary = re.findall(r'\"([^\"]*)\"', summary)\n",
    "        if len(quotes_from_summary)>0:\n",
    "            return [quote in text for quote in quotes_from_summary].count(True)\n",
    "        else:\n",
    "            return 0\n",
    "\n",
    "    def spelling(self, text):\n",
    "        \n",
    "        wordlist=text.split()\n",
    "        amount_miss = len(list(self.spellchecker.unknown(wordlist)))\n",
    "\n",
    "        return amount_miss\n",
    "    \n",
    "    def add_spelling_dictionary(self, tokens: List[str]) -> List[str]:\n",
    "        \"\"\"dictionary update for pyspell checker and autocorrect\"\"\"\n",
    "        self.spellchecker.word_frequency.load_words(tokens)\n",
    "        self.speller.nlp_data.update({token:1000 for token in tokens})\n",
    "    \n",
    "    def run(self, \n",
    "            prompts: pd.DataFrame,\n",
    "            summaries:pd.DataFrame,\n",
    "            mode:str\n",
    "        ) -> pd.DataFrame:\n",
    "        \n",
    "        # before merge preprocess\n",
    "        prompts[\"prompt_length\"] = prompts[\"prompt_text\"].apply(\n",
    "            lambda x: len(word_tokenize(x))\n",
    "        )\n",
    "        prompts[\"prompt_tokens\"] = prompts[\"prompt_text\"].apply(\n",
    "            lambda x: word_tokenize(x)\n",
    "        )\n",
    "\n",
    "        summaries[\"summary_length\"] = summaries[\"text\"].apply(\n",
    "            lambda x: len(word_tokenize(x))\n",
    "        )\n",
    "        summaries[\"summary_tokens\"] = summaries[\"text\"].apply(\n",
    "            lambda x: word_tokenize(x)\n",
    "        )\n",
    "        \n",
    "        # Add prompt tokens into spelling checker dictionary\n",
    "        prompts[\"prompt_tokens\"].apply(\n",
    "            lambda x: self.add_spelling_dictionary(x)\n",
    "        )\n",
    "        \n",
    "#         from IPython.core.debugger import Pdb; Pdb().set_trace()\n",
    "        # fix misspelling\n",
    "        summaries[\"fixed_summary_text\"] = summaries[\"text\"].progress_apply(\n",
    "            lambda x: self.speller(x)\n",
    "        )\n",
    "        \n",
    "        # count misspelling\n",
    "        summaries[\"splling_err_num\"] = summaries[\"text\"].progress_apply(self.spelling)\n",
    "        \n",
    "        # merge prompts and summaries\n",
    "        input_df = summaries.merge(prompts, how=\"left\", on=\"prompt_id\")\n",
    "\n",
    "        # after merge preprocess\n",
    "        input_df['length_ratio'] = input_df['summary_length'] / input_df['prompt_length']\n",
    "        \n",
    "        input_df['word_overlap_count'] = input_df.progress_apply(self.word_overlap_count, axis=1)\n",
    "        input_df['bigram_overlap_count'] = input_df.progress_apply(\n",
    "            self.ngram_co_occurrence,args=(2,), axis=1 \n",
    "        )\n",
    "        input_df['bigram_overlap_ratio'] = input_df['bigram_overlap_count'] / (input_df['summary_length'] - 1)\n",
    "        \n",
    "        input_df['trigram_overlap_count'] = input_df.progress_apply(\n",
    "            self.ngram_co_occurrence, args=(3,), axis=1\n",
    "        )\n",
    "        input_df['trigram_overlap_ratio'] = input_df['trigram_overlap_count'] / (input_df['summary_length'] - 2)\n",
    "        \n",
    "        input_df['quotes_count'] = input_df.progress_apply(self.quotes_count, axis=1)\n",
    "        \n",
    "        return input_df.drop(columns=[\"summary_tokens\", \"prompt_tokens\"])\n",
    "    \n",
    "preprocessor = Preprocessor(model_name=CFG.model_name_2)"
   ]
  },
  {
   "cell_type": "code",
   "execution_count": 5,
   "id": "d3a97af9",
   "metadata": {
    "execution": {
     "iopub.execute_input": "2023-10-08T08:17:24.406330Z",
     "iopub.status.busy": "2023-10-08T08:17:24.406136Z",
     "iopub.status.idle": "2023-10-08T08:17:25.199046Z",
     "shell.execute_reply": "2023-10-08T08:17:25.197999Z"
    },
    "papermill": {
     "duration": 0.801531,
     "end_time": "2023-10-08T08:17:25.200926",
     "exception": false,
     "start_time": "2023-10-08T08:17:24.399395",
     "status": "completed"
    },
    "tags": []
   },
   "outputs": [
    {
     "name": "stderr",
     "output_type": "stream",
     "text": [
      "100%|██████████| 4/4 [00:00<00:00, 4877.10it/s]\n",
      "100%|██████████| 4/4 [00:00<00:00, 5878.49it/s]\n",
      "100%|██████████| 4/4 [00:00<00:00, 2340.24it/s]\n",
      "100%|██████████| 4/4 [00:00<00:00, 2794.81it/s]\n",
      "100%|██████████| 4/4 [00:00<00:00, 2641.25it/s]\n",
      "100%|██████████| 4/4 [00:00<00:00, 2369.33it/s]\n"
     ]
    }
   ],
   "source": [
    "# train = preprocessor.run(prompts_train, summaries_train, mode=\"train\")\n",
    "train = pd.read_csv('/kaggle/input/pre-process/train.csv')\n",
    "test = preprocessor.run(prompts_test, summaries_test, mode=\"test\")\n"
   ]
  },
  {
   "cell_type": "code",
   "execution_count": 6,
   "id": "8f09775f",
   "metadata": {
    "execution": {
     "iopub.execute_input": "2023-10-08T08:17:25.215569Z",
     "iopub.status.busy": "2023-10-08T08:17:25.215382Z",
     "iopub.status.idle": "2023-10-08T08:17:25.226719Z",
     "shell.execute_reply": "2023-10-08T08:17:25.226165Z"
    },
    "papermill": {
     "duration": 0.020609,
     "end_time": "2023-10-08T08:17:25.228512",
     "exception": false,
     "start_time": "2023-10-08T08:17:25.207903",
     "status": "completed"
    },
    "tags": []
   },
   "outputs": [],
   "source": [
    "gkf = GroupKFold(n_splits=CFG.n_splits)\n",
    "\n",
    "for i, (_, val_index) in enumerate(gkf.split(train, groups=train[\"prompt_id\"])):\n",
    "    train.loc[val_index, \"fold\"] = i"
   ]
  },
  {
   "cell_type": "markdown",
   "id": "1a9f14b9",
   "metadata": {
    "papermill": {
     "duration": 0.006754,
     "end_time": "2023-10-08T08:17:25.242306",
     "exception": false,
     "start_time": "2023-10-08T08:17:25.235552",
     "status": "completed"
    },
    "tags": []
   },
   "source": [
    "## Model Function Definition"
   ]
  },
  {
   "cell_type": "code",
   "execution_count": 7,
   "id": "b80df7de",
   "metadata": {
    "execution": {
     "iopub.execute_input": "2023-10-08T08:17:25.256203Z",
     "iopub.status.busy": "2023-10-08T08:17:25.256012Z",
     "iopub.status.idle": "2023-10-08T08:17:25.261463Z",
     "shell.execute_reply": "2023-10-08T08:17:25.260616Z"
    },
    "papermill": {
     "duration": 0.014398,
     "end_time": "2023-10-08T08:17:25.263155",
     "exception": false,
     "start_time": "2023-10-08T08:17:25.248757",
     "status": "completed"
    },
    "tags": []
   },
   "outputs": [],
   "source": [
    "def compute_metrics(eval_pred):\n",
    "    predictions, labels = eval_pred\n",
    "    rmse = mean_squared_error(labels, predictions, squared=False)\n",
    "    return {\"rmse\": rmse}\n",
    "\n",
    "def compute_mcrmse(eval_pred):\n",
    "    preds, labels = eval_pred\n",
    "    col_rmse = np.sqrt(np.mean((preds - labels) ** 2, axis=0))\n",
    "    mcrmse = np.mean(col_rmse)\n",
    "    return {\n",
    "        \"content_rmse\": col_rmse[0],\n",
    "        \"wording_rmse\": col_rmse[1],\n",
    "        \"mcrmse\": mcrmse,\n",
    "    }\n",
    "def compt_score(content_true, content_pred, wording_true, wording_pred):\n",
    "    content_score = mean_squared_error(content_true, content_pred)**(1/2)\n",
    "    wording_score = mean_squared_error(wording_true, wording_pred)**(1/2)\n",
    "    \n",
    "    return (content_score + wording_score)/2"
   ]
  },
  {
   "cell_type": "markdown",
   "id": "a7ddeb5a",
   "metadata": {
    "papermill": {
     "duration": 0.006432,
     "end_time": "2023-10-08T08:17:25.275982",
     "exception": false,
     "start_time": "2023-10-08T08:17:25.269550",
     "status": "completed"
    },
    "tags": []
   },
   "source": [
    "## Deberta Regressor"
   ]
  },
  {
   "cell_type": "code",
   "execution_count": 8,
   "id": "303b4329",
   "metadata": {
    "execution": {
     "iopub.execute_input": "2023-10-08T08:17:25.291252Z",
     "iopub.status.busy": "2023-10-08T08:17:25.291021Z",
     "iopub.status.idle": "2023-10-08T08:17:25.306335Z",
     "shell.execute_reply": "2023-10-08T08:17:25.305344Z"
    },
    "papermill": {
     "duration": 0.025157,
     "end_time": "2023-10-08T08:17:25.308173",
     "exception": false,
     "start_time": "2023-10-08T08:17:25.283016",
     "status": "completed"
    },
    "tags": []
   },
   "outputs": [],
   "source": [
    "class ContentScoreRegressor:\n",
    "    def __init__(self, \n",
    "                model_name: str,\n",
    "                model_dir: str,\n",
    "                target: str,\n",
    "                hidden_dropout_prob: float,\n",
    "                attention_probs_dropout_prob: float,\n",
    "                max_length: int,\n",
    "                ):\n",
    "        self.inputs = [\"prompt_text\", \"prompt_title\", \"prompt_question\", \"fixed_summary_text\"]\n",
    "        self.input_col = \"input\"\n",
    "        \n",
    "        self.text_cols = [self.input_col] \n",
    "        self.target = target\n",
    "        self.target_cols = [target]\n",
    "\n",
    "        self.model_name = model_name\n",
    "        self.model_dir = model_dir\n",
    "        self.max_length = max_length\n",
    "        if model_name==\"debertav3base\":\n",
    "            self.tokenizer = AutoTokenizer.from_pretrained(f\"/kaggle/input/debertav3base\")\n",
    "            self.model_config = AutoConfig.from_pretrained(f\"/kaggle/input/debertav3base\")\n",
    "        if model_name==\"debertav3large\":\n",
    "            self.tokenizer = AutoTokenizer.from_pretrained(f\"/kaggle/input/debertav3large\")\n",
    "            self.model_config = AutoConfig.from_pretrained(f\"/kaggle/input/debertav3large\")\n",
    "        if model_name==\"robertalarge\":\n",
    "            self.tokenizer = AutoTokenizer.from_pretrained(f\"/kaggle/input/d/julian3833/robertalarge\")\n",
    "            self.model_config = AutoConfig.from_pretrained(f\"/kaggle/input/d/julian3833/robertalarge\")# /kaggle/input/robertalarge\n",
    "        if model_name==\"debertav3huge\":\n",
    "            self.tokenizer = AutoTokenizer.from_pretrained(f\"/kaggle/input/debertav3large\")\n",
    "            self.model_config = AutoConfig.from_pretrained(f\"/kaggle/input/debertav3large\")\n",
    "        if model_name==\"debertav3base_single\":\n",
    "            self.tokenizer = AutoTokenizer.from_pretrained(f\"/kaggle/input/debertav3base\")\n",
    "            self.model_config = AutoConfig.from_pretrained(f\"/kaggle/input/debertav3base\")\n",
    "        \n",
    "        self.model_config.update({\n",
    "            \"hidden_dropout_prob\": hidden_dropout_prob,\n",
    "            \"attention_probs_dropout_prob\": attention_probs_dropout_prob,\n",
    "            \"num_labels\": 1,\n",
    "            \"problem_type\": \"regression\",\n",
    "        })\n",
    "        \n",
    "        seed_everything(seed=3407)\n",
    "\n",
    "        self.data_collator = DataCollatorWithPadding(\n",
    "            tokenizer=self.tokenizer\n",
    "        )\n",
    "\n",
    "\n",
    "    def tokenize_function(self, examples: pd.DataFrame):\n",
    "        labels = [examples[self.target]]\n",
    "        tokenized = self.tokenizer(examples[self.input_col],\n",
    "                         padding=False,\n",
    "                         truncation=True,\n",
    "                         max_length=self.max_length)\n",
    "        return {\n",
    "            **tokenized,\n",
    "            \"labels\": labels,\n",
    "        }\n",
    "    \n",
    "    def tokenize_function_test(self, examples: pd.DataFrame):\n",
    "        tokenized = self.tokenizer(examples[self.input_col],\n",
    "                         padding=False,\n",
    "                         truncation=True,\n",
    "                         max_length=self.max_length)\n",
    "        return tokenized\n",
    "\n",
    "        \n",
    "    def predict(self, \n",
    "                test_df: pd.DataFrame,\n",
    "                fold: int,\n",
    "               ):\n",
    "        \"\"\"predict content score\"\"\"\n",
    "        \n",
    "        sep = self.tokenizer.sep_token\n",
    "        in_text = (\n",
    "                    test_df[\"prompt_title\"] + sep \n",
    "                    + test_df[\"prompt_question\"] + sep \n",
    "                    + test_df[\"fixed_summary_text\"]\n",
    "                  )\n",
    "        test_df[self.input_col] = in_text\n",
    "\n",
    "        test_ = test_df[[self.input_col]]\n",
    "    \n",
    "        test_dataset = Dataset.from_pandas(test_, preserve_index=False) \n",
    "        test_tokenized_dataset = test_dataset.map(self.tokenize_function_test, batched=False)\n",
    "\n",
    "        model_content = AutoModelForSequenceClassification.from_pretrained(f\"{self.model_dir}\")\n",
    "        model_content.eval()\n",
    "        \n",
    "        # e.g. \"bert/fold_0/\"\n",
    "        model_fold_dir = os.path.join(self.model_dir, str(fold)) \n",
    "\n",
    "        test_args = TrainingArguments(\n",
    "            output_dir=model_fold_dir,\n",
    "            do_train = False,\n",
    "            do_predict = True,\n",
    "            per_device_eval_batch_size = 8,   \n",
    "            dataloader_drop_last = False,\n",
    "        )\n",
    "\n",
    "        # init trainer\n",
    "        infer_content = Trainer(\n",
    "                      model = model_content, \n",
    "                      tokenizer=self.tokenizer,\n",
    "                      data_collator=self.data_collator,\n",
    "                      args = test_args)\n",
    "\n",
    "        preds = infer_content.predict(test_tokenized_dataset)[0]\n",
    "\n",
    "        return preds"
   ]
  },
  {
   "cell_type": "code",
   "execution_count": 9,
   "id": "b4d3490b",
   "metadata": {
    "execution": {
     "iopub.execute_input": "2023-10-08T08:17:25.322827Z",
     "iopub.status.busy": "2023-10-08T08:17:25.322608Z",
     "iopub.status.idle": "2023-10-08T08:17:25.332994Z",
     "shell.execute_reply": "2023-10-08T08:17:25.332130Z"
    },
    "papermill": {
     "duration": 0.019648,
     "end_time": "2023-10-08T08:17:25.334608",
     "exception": false,
     "start_time": "2023-10-08T08:17:25.314960",
     "status": "completed"
    },
    "tags": []
   },
   "outputs": [],
   "source": [
    "def validate(\n",
    "    train_df: pd.DataFrame,\n",
    "    target:str,\n",
    "    save_each_model: bool,\n",
    "    model_name: str,\n",
    "    hidden_dropout_prob: float,\n",
    "    attention_probs_dropout_prob: float,\n",
    "    max_length : int\n",
    "    ) -> pd.DataFrame:\n",
    "    \"\"\"predict oof data\"\"\"\n",
    "    for fold in range(CFG.n_splits):\n",
    "        print(f\"fold {fold}:\")\n",
    "        \n",
    "        valid_data = train_df[train_df[\"fold\"] == fold]\n",
    "        \n",
    "        if save_each_model == True:\n",
    "            if model_name==\"debertav3large\":\n",
    "                model_dir =  f\"/kaggle/input/debertav3large-{target}-fold-{fold}/{target}/\"\n",
    "            if model_name==\"debertav3base\" and target==\"content\" :\n",
    "                model_dir =  f\"/kaggle/input/debertav3base-{target}-trainonly/{target}/{model_name}/fold_{fold}/\"\n",
    "            if model_name==\"debertav3base\" and target==\"wording\" :\n",
    "                model_dir =  f\"/kaggle/input/debertav3base-{target}-trainonly/{model_name}/fold_{fold}/\"\n",
    "            if model_name==\"robertalarge\":\n",
    "                model_dir = f\"/kaggle/input/robertalarge-{target}-{fold}/fold_{fold}\"\n",
    "                \n",
    "            if model_name == 'debertav3huge':\n",
    "                model_dir = f\"/kaggle/input/debertav3large-huge/{target}/{target}/debertav3large/fold_{fold}\"\n",
    "        #最后使用的开源的最高分的是用的base没有分target版本\n",
    "        if save_each_model == False:\n",
    "            model_dir = f\"/kaggle/input/commonlistdebertatuned/debertav3base/fold_{fold}\"\n",
    " \n",
    "        csr = ContentScoreRegressor(\n",
    "            model_name=model_name,\n",
    "            target=target,\n",
    "            model_dir = model_dir,\n",
    "            hidden_dropout_prob=hidden_dropout_prob,\n",
    "            attention_probs_dropout_prob=attention_probs_dropout_prob,\n",
    "            max_length=max_length,\n",
    "           )\n",
    "        \n",
    "        pred = csr.predict(\n",
    "            test_df=valid_data, \n",
    "            fold=fold\n",
    "        )\n",
    "        \n",
    "        train_df.loc[valid_data.index, f\"{target}_{model_name}\"] = pred\n",
    "\n",
    "    return train_df\n",
    "def predict(\n",
    "    test_df: pd.DataFrame,\n",
    "    target:str,\n",
    "    save_each_model: bool,\n",
    "    model_name: str,\n",
    "    hidden_dropout_prob: float,\n",
    "    attention_probs_dropout_prob: float,\n",
    "    max_length : int\n",
    "    ):\n",
    "    \"\"\"predict using mean folds\"\"\"\n",
    "    #模型名称是model_name\n",
    "    for fold in range(CFG.n_splits):\n",
    "        print(f\"fold {fold}:\")\n",
    "        if save_each_model == True:\n",
    "            if model_name==\"debertav3large\":\n",
    "                model_dir =  f\"/kaggle/input/debertav3large-{target}-fold-{fold}/{target}/\"\n",
    "            if model_name==\"debertav3base\" and target==\"content\" :\n",
    "                model_dir =  f\"/kaggle/input/debertav3base-{target}-trainonly/{target}/{model_name}/fold_{fold}/\"\n",
    "            if model_name==\"debertav3base\" and target==\"wording\" :\n",
    "                model_dir =  f\"/kaggle/input/debertav3base-{target}-trainonly/{model_name}/fold_{fold}/\"\n",
    "            if model_name==\"robertalarge\":\n",
    "                model_dir = f\"/kaggle/input/robertalarge-{target}-{fold}/fold_{fold}\"\n",
    "                \n",
    "                \n",
    "            if model_name == 'debertav3huge':\n",
    "                model_dir = f\"/kaggle/input/debertav3large-huge/{target}/{target}/debertav3large/fold_{fold}\"\n",
    "        #最后使用的开源的最高分的是用的base没有分target版本\n",
    "        if save_each_model == False:\n",
    "            model_dir = f\"/kaggle/input/commonlistdebertatuned/debertav3base/fold_{fold}\"\n",
    "    \n",
    "                \n",
    "        csr = ContentScoreRegressor(\n",
    "            model_name=model_name,\n",
    "            target=target,\n",
    "            model_dir = model_dir, \n",
    "            hidden_dropout_prob=hidden_dropout_prob,\n",
    "            attention_probs_dropout_prob=attention_probs_dropout_prob,\n",
    "            max_length=max_length,\n",
    "           )\n",
    "        \n",
    "        pred = csr.predict(\n",
    "            test_df=test_df, \n",
    "            fold=fold\n",
    "        )\n",
    "        \n",
    "        test_df[f\"{target}_{model_name}_{fold}\"] = pred\n",
    "    \n",
    "    test_df[f\"{target}_{model_name}\"] = test_df[[f\"{target}_{model_name}_{fold}\" for fold in range(CFG.n_splits)]].mean(axis=1)\n",
    "\n",
    "    return test_df"
   ]
  },
  {
   "cell_type": "markdown",
   "id": "9e97477f",
   "metadata": {
    "papermill": {
     "duration": 0.006302,
     "end_time": "2023-10-08T08:17:25.347310",
     "exception": false,
     "start_time": "2023-10-08T08:17:25.341008",
     "status": "completed"
    },
    "tags": []
   },
   "source": [
    "# 模型推断部分 "
   ]
  },
  {
   "cell_type": "code",
   "execution_count": 10,
   "id": "93ed10e4",
   "metadata": {
    "execution": {
     "iopub.execute_input": "2023-10-08T08:17:25.361736Z",
     "iopub.status.busy": "2023-10-08T08:17:25.361105Z",
     "iopub.status.idle": "2023-10-08T08:17:25.365372Z",
     "shell.execute_reply": "2023-10-08T08:17:25.364638Z"
    },
    "papermill": {
     "duration": 0.013207,
     "end_time": "2023-10-08T08:17:25.366997",
     "exception": false,
     "start_time": "2023-10-08T08:17:25.353790",
     "status": "completed"
    },
    "tags": []
   },
   "outputs": [],
   "source": [
    "import time"
   ]
  },
  {
   "cell_type": "code",
   "execution_count": 11,
   "id": "26cfa5ea",
   "metadata": {
    "execution": {
     "iopub.execute_input": "2023-10-08T08:17:25.381275Z",
     "iopub.status.busy": "2023-10-08T08:17:25.381110Z",
     "iopub.status.idle": "2023-10-08T09:01:58.455579Z",
     "shell.execute_reply": "2023-10-08T09:01:58.453118Z"
    },
    "papermill": {
     "duration": 2673.087217,
     "end_time": "2023-10-08T09:01:58.460605",
     "exception": false,
     "start_time": "2023-10-08T08:17:25.373388",
     "status": "completed"
    },
    "tags": []
   },
   "outputs": [
    {
     "name": "stdout",
     "output_type": "stream",
     "text": [
      "******************************\n",
      "现在是debertav3base_content的validate\n",
      "fold 0:\n"
     ]
    },
    {
     "data": {
      "text/html": [],
      "text/plain": [
       "<IPython.core.display.HTML object>"
      ]
     },
     "metadata": {},
     "output_type": "display_data"
    },
    {
     "name": "stdout",
     "output_type": "stream",
     "text": [
      "fold 1:\n"
     ]
    },
    {
     "data": {
      "text/html": [],
      "text/plain": [
       "<IPython.core.display.HTML object>"
      ]
     },
     "metadata": {},
     "output_type": "display_data"
    },
    {
     "name": "stdout",
     "output_type": "stream",
     "text": [
      "fold 2:\n"
     ]
    },
    {
     "data": {
      "text/html": [],
      "text/plain": [
       "<IPython.core.display.HTML object>"
      ]
     },
     "metadata": {},
     "output_type": "display_data"
    },
    {
     "name": "stdout",
     "output_type": "stream",
     "text": [
      "fold 3:\n"
     ]
    },
    {
     "data": {
      "text/html": [],
      "text/plain": [
       "<IPython.core.display.HTML object>"
      ]
     },
     "metadata": {},
     "output_type": "display_data"
    },
    {
     "name": "stdout",
     "output_type": "stream",
     "text": [
      "cv content rmse: 0.48438723597753275\n",
      "现在是debertav3base_content的test\n",
      "fold 0:\n"
     ]
    },
    {
     "data": {
      "text/html": [],
      "text/plain": [
       "<IPython.core.display.HTML object>"
      ]
     },
     "metadata": {},
     "output_type": "display_data"
    },
    {
     "name": "stdout",
     "output_type": "stream",
     "text": [
      "fold 1:\n"
     ]
    },
    {
     "data": {
      "text/html": [],
      "text/plain": [
       "<IPython.core.display.HTML object>"
      ]
     },
     "metadata": {},
     "output_type": "display_data"
    },
    {
     "name": "stdout",
     "output_type": "stream",
     "text": [
      "fold 2:\n"
     ]
    },
    {
     "data": {
      "text/html": [],
      "text/plain": [
       "<IPython.core.display.HTML object>"
      ]
     },
     "metadata": {},
     "output_type": "display_data"
    },
    {
     "name": "stdout",
     "output_type": "stream",
     "text": [
      "fold 3:\n"
     ]
    },
    {
     "data": {
      "text/html": [],
      "text/plain": [
       "<IPython.core.display.HTML object>"
      ]
     },
     "metadata": {},
     "output_type": "display_data"
    },
    {
     "name": "stdout",
     "output_type": "stream",
     "text": [
      "******************************\n",
      "现在是debertav3large_content的validate\n",
      "fold 0:\n"
     ]
    },
    {
     "data": {
      "text/html": [],
      "text/plain": [
       "<IPython.core.display.HTML object>"
      ]
     },
     "metadata": {},
     "output_type": "display_data"
    },
    {
     "name": "stdout",
     "output_type": "stream",
     "text": [
      "fold 1:\n"
     ]
    },
    {
     "data": {
      "text/html": [],
      "text/plain": [
       "<IPython.core.display.HTML object>"
      ]
     },
     "metadata": {},
     "output_type": "display_data"
    },
    {
     "name": "stdout",
     "output_type": "stream",
     "text": [
      "fold 2:\n"
     ]
    },
    {
     "data": {
      "text/html": [],
      "text/plain": [
       "<IPython.core.display.HTML object>"
      ]
     },
     "metadata": {},
     "output_type": "display_data"
    },
    {
     "name": "stdout",
     "output_type": "stream",
     "text": [
      "fold 3:\n"
     ]
    },
    {
     "data": {
      "text/html": [],
      "text/plain": [
       "<IPython.core.display.HTML object>"
      ]
     },
     "metadata": {},
     "output_type": "display_data"
    },
    {
     "name": "stdout",
     "output_type": "stream",
     "text": [
      "cv content rmse: 0.4507416519114946\n",
      "现在是debertav3large_content的test\n",
      "fold 0:\n"
     ]
    },
    {
     "data": {
      "text/html": [],
      "text/plain": [
       "<IPython.core.display.HTML object>"
      ]
     },
     "metadata": {},
     "output_type": "display_data"
    },
    {
     "name": "stdout",
     "output_type": "stream",
     "text": [
      "fold 1:\n"
     ]
    },
    {
     "data": {
      "text/html": [],
      "text/plain": [
       "<IPython.core.display.HTML object>"
      ]
     },
     "metadata": {},
     "output_type": "display_data"
    },
    {
     "name": "stdout",
     "output_type": "stream",
     "text": [
      "fold 2:\n"
     ]
    },
    {
     "data": {
      "text/html": [],
      "text/plain": [
       "<IPython.core.display.HTML object>"
      ]
     },
     "metadata": {},
     "output_type": "display_data"
    },
    {
     "name": "stdout",
     "output_type": "stream",
     "text": [
      "fold 3:\n"
     ]
    },
    {
     "data": {
      "text/html": [],
      "text/plain": [
       "<IPython.core.display.HTML object>"
      ]
     },
     "metadata": {},
     "output_type": "display_data"
    },
    {
     "name": "stdout",
     "output_type": "stream",
     "text": [
      "******************************\n",
      "现在是robertalarge_content的validate\n",
      "fold 0:\n"
     ]
    },
    {
     "data": {
      "text/html": [],
      "text/plain": [
       "<IPython.core.display.HTML object>"
      ]
     },
     "metadata": {},
     "output_type": "display_data"
    },
    {
     "name": "stdout",
     "output_type": "stream",
     "text": [
      "fold 1:\n"
     ]
    },
    {
     "data": {
      "text/html": [],
      "text/plain": [
       "<IPython.core.display.HTML object>"
      ]
     },
     "metadata": {},
     "output_type": "display_data"
    },
    {
     "name": "stdout",
     "output_type": "stream",
     "text": [
      "fold 2:\n"
     ]
    },
    {
     "data": {
      "text/html": [],
      "text/plain": [
       "<IPython.core.display.HTML object>"
      ]
     },
     "metadata": {},
     "output_type": "display_data"
    },
    {
     "name": "stdout",
     "output_type": "stream",
     "text": [
      "fold 3:\n"
     ]
    },
    {
     "data": {
      "text/html": [],
      "text/plain": [
       "<IPython.core.display.HTML object>"
      ]
     },
     "metadata": {},
     "output_type": "display_data"
    },
    {
     "name": "stdout",
     "output_type": "stream",
     "text": [
      "cv content rmse: 0.5072132849954926\n",
      "现在是robertalarge_content的test\n",
      "fold 0:\n"
     ]
    },
    {
     "data": {
      "text/html": [],
      "text/plain": [
       "<IPython.core.display.HTML object>"
      ]
     },
     "metadata": {},
     "output_type": "display_data"
    },
    {
     "name": "stdout",
     "output_type": "stream",
     "text": [
      "fold 1:\n"
     ]
    },
    {
     "data": {
      "text/html": [],
      "text/plain": [
       "<IPython.core.display.HTML object>"
      ]
     },
     "metadata": {},
     "output_type": "display_data"
    },
    {
     "name": "stdout",
     "output_type": "stream",
     "text": [
      "fold 2:\n"
     ]
    },
    {
     "data": {
      "text/html": [],
      "text/plain": [
       "<IPython.core.display.HTML object>"
      ]
     },
     "metadata": {},
     "output_type": "display_data"
    },
    {
     "name": "stdout",
     "output_type": "stream",
     "text": [
      "fold 3:\n"
     ]
    },
    {
     "data": {
      "text/html": [],
      "text/plain": [
       "<IPython.core.display.HTML object>"
      ]
     },
     "metadata": {},
     "output_type": "display_data"
    },
    {
     "name": "stdout",
     "output_type": "stream",
     "text": [
      "******************************\n",
      "现在是debertav3huge_content的validate\n",
      "fold 0:\n"
     ]
    },
    {
     "data": {
      "text/html": [],
      "text/plain": [
       "<IPython.core.display.HTML object>"
      ]
     },
     "metadata": {},
     "output_type": "display_data"
    },
    {
     "name": "stdout",
     "output_type": "stream",
     "text": [
      "fold 1:\n"
     ]
    },
    {
     "data": {
      "text/html": [],
      "text/plain": [
       "<IPython.core.display.HTML object>"
      ]
     },
     "metadata": {},
     "output_type": "display_data"
    },
    {
     "name": "stdout",
     "output_type": "stream",
     "text": [
      "fold 2:\n"
     ]
    },
    {
     "data": {
      "text/html": [],
      "text/plain": [
       "<IPython.core.display.HTML object>"
      ]
     },
     "metadata": {},
     "output_type": "display_data"
    },
    {
     "name": "stdout",
     "output_type": "stream",
     "text": [
      "fold 3:\n"
     ]
    },
    {
     "data": {
      "text/html": [],
      "text/plain": [
       "<IPython.core.display.HTML object>"
      ]
     },
     "metadata": {},
     "output_type": "display_data"
    },
    {
     "name": "stdout",
     "output_type": "stream",
     "text": [
      "cv content rmse: 0.4758927439896877\n",
      "现在是debertav3huge_content的test\n",
      "fold 0:\n"
     ]
    },
    {
     "data": {
      "text/html": [],
      "text/plain": [
       "<IPython.core.display.HTML object>"
      ]
     },
     "metadata": {},
     "output_type": "display_data"
    },
    {
     "name": "stdout",
     "output_type": "stream",
     "text": [
      "fold 1:\n"
     ]
    },
    {
     "data": {
      "text/html": [],
      "text/plain": [
       "<IPython.core.display.HTML object>"
      ]
     },
     "metadata": {},
     "output_type": "display_data"
    },
    {
     "name": "stdout",
     "output_type": "stream",
     "text": [
      "fold 2:\n"
     ]
    },
    {
     "data": {
      "text/html": [],
      "text/plain": [
       "<IPython.core.display.HTML object>"
      ]
     },
     "metadata": {},
     "output_type": "display_data"
    },
    {
     "name": "stdout",
     "output_type": "stream",
     "text": [
      "fold 3:\n"
     ]
    },
    {
     "data": {
      "text/html": [],
      "text/plain": [
       "<IPython.core.display.HTML object>"
      ]
     },
     "metadata": {},
     "output_type": "display_data"
    },
    {
     "name": "stdout",
     "output_type": "stream",
     "text": [
      "******************************\n",
      "现在是debertav3base_single_content的validate\n",
      "fold 0:\n"
     ]
    },
    {
     "data": {
      "text/html": [],
      "text/plain": [
       "<IPython.core.display.HTML object>"
      ]
     },
     "metadata": {},
     "output_type": "display_data"
    },
    {
     "name": "stdout",
     "output_type": "stream",
     "text": [
      "fold 1:\n"
     ]
    },
    {
     "data": {
      "text/html": [],
      "text/plain": [
       "<IPython.core.display.HTML object>"
      ]
     },
     "metadata": {},
     "output_type": "display_data"
    },
    {
     "name": "stdout",
     "output_type": "stream",
     "text": [
      "fold 2:\n"
     ]
    },
    {
     "data": {
      "text/html": [],
      "text/plain": [
       "<IPython.core.display.HTML object>"
      ]
     },
     "metadata": {},
     "output_type": "display_data"
    },
    {
     "name": "stdout",
     "output_type": "stream",
     "text": [
      "fold 3:\n"
     ]
    },
    {
     "data": {
      "text/html": [],
      "text/plain": [
       "<IPython.core.display.HTML object>"
      ]
     },
     "metadata": {},
     "output_type": "display_data"
    },
    {
     "name": "stdout",
     "output_type": "stream",
     "text": [
      "cv content rmse: 0.6098442482724246\n",
      "现在是debertav3base_single_content的test\n",
      "fold 0:\n"
     ]
    },
    {
     "data": {
      "text/html": [],
      "text/plain": [
       "<IPython.core.display.HTML object>"
      ]
     },
     "metadata": {},
     "output_type": "display_data"
    },
    {
     "name": "stdout",
     "output_type": "stream",
     "text": [
      "fold 1:\n"
     ]
    },
    {
     "data": {
      "text/html": [],
      "text/plain": [
       "<IPython.core.display.HTML object>"
      ]
     },
     "metadata": {},
     "output_type": "display_data"
    },
    {
     "name": "stdout",
     "output_type": "stream",
     "text": [
      "fold 2:\n"
     ]
    },
    {
     "data": {
      "text/html": [],
      "text/plain": [
       "<IPython.core.display.HTML object>"
      ]
     },
     "metadata": {},
     "output_type": "display_data"
    },
    {
     "name": "stdout",
     "output_type": "stream",
     "text": [
      "fold 3:\n"
     ]
    },
    {
     "data": {
      "text/html": [],
      "text/plain": [
       "<IPython.core.display.HTML object>"
      ]
     },
     "metadata": {},
     "output_type": "display_data"
    },
    {
     "name": "stdout",
     "output_type": "stream",
     "text": [
      "******************************\n",
      "现在是debertav3base_wording的validate\n",
      "fold 0:\n"
     ]
    },
    {
     "data": {
      "text/html": [],
      "text/plain": [
       "<IPython.core.display.HTML object>"
      ]
     },
     "metadata": {},
     "output_type": "display_data"
    },
    {
     "name": "stdout",
     "output_type": "stream",
     "text": [
      "fold 1:\n"
     ]
    },
    {
     "data": {
      "text/html": [],
      "text/plain": [
       "<IPython.core.display.HTML object>"
      ]
     },
     "metadata": {},
     "output_type": "display_data"
    },
    {
     "name": "stdout",
     "output_type": "stream",
     "text": [
      "fold 2:\n"
     ]
    },
    {
     "data": {
      "text/html": [],
      "text/plain": [
       "<IPython.core.display.HTML object>"
      ]
     },
     "metadata": {},
     "output_type": "display_data"
    },
    {
     "name": "stdout",
     "output_type": "stream",
     "text": [
      "fold 3:\n"
     ]
    },
    {
     "data": {
      "text/html": [],
      "text/plain": [
       "<IPython.core.display.HTML object>"
      ]
     },
     "metadata": {},
     "output_type": "display_data"
    },
    {
     "name": "stdout",
     "output_type": "stream",
     "text": [
      "cv wording rmse: 0.6263381693156309\n",
      "现在是debertav3base_wording的test\n",
      "fold 0:\n"
     ]
    },
    {
     "data": {
      "text/html": [],
      "text/plain": [
       "<IPython.core.display.HTML object>"
      ]
     },
     "metadata": {},
     "output_type": "display_data"
    },
    {
     "name": "stdout",
     "output_type": "stream",
     "text": [
      "fold 1:\n"
     ]
    },
    {
     "data": {
      "text/html": [],
      "text/plain": [
       "<IPython.core.display.HTML object>"
      ]
     },
     "metadata": {},
     "output_type": "display_data"
    },
    {
     "name": "stdout",
     "output_type": "stream",
     "text": [
      "fold 2:\n"
     ]
    },
    {
     "data": {
      "text/html": [],
      "text/plain": [
       "<IPython.core.display.HTML object>"
      ]
     },
     "metadata": {},
     "output_type": "display_data"
    },
    {
     "name": "stdout",
     "output_type": "stream",
     "text": [
      "fold 3:\n"
     ]
    },
    {
     "data": {
      "text/html": [],
      "text/plain": [
       "<IPython.core.display.HTML object>"
      ]
     },
     "metadata": {},
     "output_type": "display_data"
    },
    {
     "name": "stdout",
     "output_type": "stream",
     "text": [
      "******************************\n",
      "现在是debertav3large_wording的validate\n",
      "fold 0:\n"
     ]
    },
    {
     "data": {
      "text/html": [],
      "text/plain": [
       "<IPython.core.display.HTML object>"
      ]
     },
     "metadata": {},
     "output_type": "display_data"
    },
    {
     "name": "stdout",
     "output_type": "stream",
     "text": [
      "fold 1:\n"
     ]
    },
    {
     "data": {
      "text/html": [],
      "text/plain": [
       "<IPython.core.display.HTML object>"
      ]
     },
     "metadata": {},
     "output_type": "display_data"
    },
    {
     "name": "stdout",
     "output_type": "stream",
     "text": [
      "fold 2:\n"
     ]
    },
    {
     "data": {
      "text/html": [],
      "text/plain": [
       "<IPython.core.display.HTML object>"
      ]
     },
     "metadata": {},
     "output_type": "display_data"
    },
    {
     "name": "stdout",
     "output_type": "stream",
     "text": [
      "fold 3:\n"
     ]
    },
    {
     "data": {
      "text/html": [],
      "text/plain": [
       "<IPython.core.display.HTML object>"
      ]
     },
     "metadata": {},
     "output_type": "display_data"
    },
    {
     "name": "stdout",
     "output_type": "stream",
     "text": [
      "cv wording rmse: 0.6624682560141111\n",
      "现在是debertav3large_wording的test\n",
      "fold 0:\n"
     ]
    },
    {
     "data": {
      "text/html": [],
      "text/plain": [
       "<IPython.core.display.HTML object>"
      ]
     },
     "metadata": {},
     "output_type": "display_data"
    },
    {
     "name": "stdout",
     "output_type": "stream",
     "text": [
      "fold 1:\n"
     ]
    },
    {
     "data": {
      "text/html": [],
      "text/plain": [
       "<IPython.core.display.HTML object>"
      ]
     },
     "metadata": {},
     "output_type": "display_data"
    },
    {
     "name": "stdout",
     "output_type": "stream",
     "text": [
      "fold 2:\n"
     ]
    },
    {
     "data": {
      "text/html": [],
      "text/plain": [
       "<IPython.core.display.HTML object>"
      ]
     },
     "metadata": {},
     "output_type": "display_data"
    },
    {
     "name": "stdout",
     "output_type": "stream",
     "text": [
      "fold 3:\n"
     ]
    },
    {
     "data": {
      "text/html": [],
      "text/plain": [
       "<IPython.core.display.HTML object>"
      ]
     },
     "metadata": {},
     "output_type": "display_data"
    },
    {
     "name": "stdout",
     "output_type": "stream",
     "text": [
      "******************************\n",
      "现在是robertalarge_wording的validate\n",
      "fold 0:\n"
     ]
    },
    {
     "data": {
      "text/html": [],
      "text/plain": [
       "<IPython.core.display.HTML object>"
      ]
     },
     "metadata": {},
     "output_type": "display_data"
    },
    {
     "name": "stdout",
     "output_type": "stream",
     "text": [
      "fold 1:\n"
     ]
    },
    {
     "data": {
      "text/html": [],
      "text/plain": [
       "<IPython.core.display.HTML object>"
      ]
     },
     "metadata": {},
     "output_type": "display_data"
    },
    {
     "name": "stdout",
     "output_type": "stream",
     "text": [
      "fold 2:\n"
     ]
    },
    {
     "data": {
      "text/html": [],
      "text/plain": [
       "<IPython.core.display.HTML object>"
      ]
     },
     "metadata": {},
     "output_type": "display_data"
    },
    {
     "name": "stdout",
     "output_type": "stream",
     "text": [
      "fold 3:\n"
     ]
    },
    {
     "data": {
      "text/html": [],
      "text/plain": [
       "<IPython.core.display.HTML object>"
      ]
     },
     "metadata": {},
     "output_type": "display_data"
    },
    {
     "name": "stdout",
     "output_type": "stream",
     "text": [
      "cv wording rmse: 0.6855003321456917\n",
      "现在是robertalarge_wording的test\n",
      "fold 0:\n"
     ]
    },
    {
     "data": {
      "text/html": [],
      "text/plain": [
       "<IPython.core.display.HTML object>"
      ]
     },
     "metadata": {},
     "output_type": "display_data"
    },
    {
     "name": "stdout",
     "output_type": "stream",
     "text": [
      "fold 1:\n"
     ]
    },
    {
     "data": {
      "text/html": [],
      "text/plain": [
       "<IPython.core.display.HTML object>"
      ]
     },
     "metadata": {},
     "output_type": "display_data"
    },
    {
     "name": "stdout",
     "output_type": "stream",
     "text": [
      "fold 2:\n"
     ]
    },
    {
     "data": {
      "text/html": [],
      "text/plain": [
       "<IPython.core.display.HTML object>"
      ]
     },
     "metadata": {},
     "output_type": "display_data"
    },
    {
     "name": "stdout",
     "output_type": "stream",
     "text": [
      "fold 3:\n"
     ]
    },
    {
     "data": {
      "text/html": [],
      "text/plain": [
       "<IPython.core.display.HTML object>"
      ]
     },
     "metadata": {},
     "output_type": "display_data"
    },
    {
     "name": "stdout",
     "output_type": "stream",
     "text": [
      "******************************\n",
      "现在是debertav3huge_wording的validate\n",
      "fold 0:\n"
     ]
    },
    {
     "data": {
      "text/html": [],
      "text/plain": [
       "<IPython.core.display.HTML object>"
      ]
     },
     "metadata": {},
     "output_type": "display_data"
    },
    {
     "name": "stdout",
     "output_type": "stream",
     "text": [
      "fold 1:\n"
     ]
    },
    {
     "data": {
      "text/html": [],
      "text/plain": [
       "<IPython.core.display.HTML object>"
      ]
     },
     "metadata": {},
     "output_type": "display_data"
    },
    {
     "name": "stdout",
     "output_type": "stream",
     "text": [
      "fold 2:\n"
     ]
    },
    {
     "data": {
      "text/html": [],
      "text/plain": [
       "<IPython.core.display.HTML object>"
      ]
     },
     "metadata": {},
     "output_type": "display_data"
    },
    {
     "name": "stdout",
     "output_type": "stream",
     "text": [
      "fold 3:\n"
     ]
    },
    {
     "data": {
      "text/html": [],
      "text/plain": [
       "<IPython.core.display.HTML object>"
      ]
     },
     "metadata": {},
     "output_type": "display_data"
    },
    {
     "name": "stdout",
     "output_type": "stream",
     "text": [
      "cv wording rmse: 0.6472189480549035\n",
      "现在是debertav3huge_wording的test\n",
      "fold 0:\n"
     ]
    },
    {
     "data": {
      "text/html": [],
      "text/plain": [
       "<IPython.core.display.HTML object>"
      ]
     },
     "metadata": {},
     "output_type": "display_data"
    },
    {
     "name": "stdout",
     "output_type": "stream",
     "text": [
      "fold 1:\n"
     ]
    },
    {
     "data": {
      "text/html": [],
      "text/plain": [
       "<IPython.core.display.HTML object>"
      ]
     },
     "metadata": {},
     "output_type": "display_data"
    },
    {
     "name": "stdout",
     "output_type": "stream",
     "text": [
      "fold 2:\n"
     ]
    },
    {
     "data": {
      "text/html": [],
      "text/plain": [
       "<IPython.core.display.HTML object>"
      ]
     },
     "metadata": {},
     "output_type": "display_data"
    },
    {
     "name": "stdout",
     "output_type": "stream",
     "text": [
      "fold 3:\n"
     ]
    },
    {
     "data": {
      "text/html": [],
      "text/plain": [
       "<IPython.core.display.HTML object>"
      ]
     },
     "metadata": {},
     "output_type": "display_data"
    },
    {
     "name": "stdout",
     "output_type": "stream",
     "text": [
      "******************************\n",
      "现在是debertav3base_single_wording的validate\n",
      "fold 0:\n"
     ]
    },
    {
     "data": {
      "text/html": [],
      "text/plain": [
       "<IPython.core.display.HTML object>"
      ]
     },
     "metadata": {},
     "output_type": "display_data"
    },
    {
     "name": "stdout",
     "output_type": "stream",
     "text": [
      "fold 1:\n"
     ]
    },
    {
     "data": {
      "text/html": [],
      "text/plain": [
       "<IPython.core.display.HTML object>"
      ]
     },
     "metadata": {},
     "output_type": "display_data"
    },
    {
     "name": "stdout",
     "output_type": "stream",
     "text": [
      "fold 2:\n"
     ]
    },
    {
     "data": {
      "text/html": [],
      "text/plain": [
       "<IPython.core.display.HTML object>"
      ]
     },
     "metadata": {},
     "output_type": "display_data"
    },
    {
     "name": "stdout",
     "output_type": "stream",
     "text": [
      "fold 3:\n"
     ]
    },
    {
     "data": {
      "text/html": [],
      "text/plain": [
       "<IPython.core.display.HTML object>"
      ]
     },
     "metadata": {},
     "output_type": "display_data"
    },
    {
     "name": "stdout",
     "output_type": "stream",
     "text": [
      "cv wording rmse: 0.6308100650624396\n",
      "现在是debertav3base_single_wording的test\n",
      "fold 0:\n"
     ]
    },
    {
     "data": {
      "text/html": [],
      "text/plain": [
       "<IPython.core.display.HTML object>"
      ]
     },
     "metadata": {},
     "output_type": "display_data"
    },
    {
     "name": "stdout",
     "output_type": "stream",
     "text": [
      "fold 1:\n"
     ]
    },
    {
     "data": {
      "text/html": [],
      "text/plain": [
       "<IPython.core.display.HTML object>"
      ]
     },
     "metadata": {},
     "output_type": "display_data"
    },
    {
     "name": "stdout",
     "output_type": "stream",
     "text": [
      "fold 2:\n"
     ]
    },
    {
     "data": {
      "text/html": [],
      "text/plain": [
       "<IPython.core.display.HTML object>"
      ]
     },
     "metadata": {},
     "output_type": "display_data"
    },
    {
     "name": "stdout",
     "output_type": "stream",
     "text": [
      "fold 3:\n"
     ]
    },
    {
     "data": {
      "text/html": [],
      "text/plain": [
       "<IPython.core.display.HTML object>"
      ]
     },
     "metadata": {},
     "output_type": "display_data"
    },
    {
     "name": "stdout",
     "output_type": "stream",
     "text": [
      "耗时 -2673.059722185135\n"
     ]
    }
   ],
   "source": [
    "start_time = time.time()\n",
    "for target in [\"content\",\"wording\"]:\n",
    "###############################------model_name_1------#####################################################\n",
    "    print('*'*30)\n",
    "   \n",
    "    print(f'现在是{CFG.model_name_1}_{target}的validate')\n",
    "    train = validate(\n",
    "        train,\n",
    "        target=target,\n",
    "        save_each_model=True,\n",
    "        model_name=CFG.model_name_1,\n",
    "        hidden_dropout_prob=CFG.hidden_dropout_prob,\n",
    "        attention_probs_dropout_prob=CFG.attention_probs_dropout_prob,\n",
    "        max_length=CFG.max_length\n",
    "    )\n",
    "\n",
    "    rmse = mean_squared_error(train[target], train[f\"{target}_{CFG.model_name_1}\"], squared=False)\n",
    "    print(f\"cv {target} rmse: {rmse}\")\n",
    "    print(f'现在是{CFG.model_name_1}_{target}的test')\n",
    "    \n",
    "    test = predict(\n",
    "        test,\n",
    "        target=target,\n",
    "        save_each_model=True,\n",
    "        model_name=CFG.model_name_1,\n",
    "        hidden_dropout_prob=CFG.hidden_dropout_prob,\n",
    "        attention_probs_dropout_prob=CFG.attention_probs_dropout_prob,\n",
    "        max_length=CFG.max_length\n",
    "    )\n",
    "###################################------model_name_2------#################################################\n",
    "    print('*'*30)\n",
    "\n",
    "    #model2\n",
    "    print(f'现在是{CFG.model_name_2}_{target}的validate')\n",
    "    \n",
    "    train = validate(\n",
    "        train,\n",
    "        target=target,\n",
    "        save_each_model=True,\n",
    "        model_name=CFG.model_name_2,\n",
    "        hidden_dropout_prob=CFG.hidden_dropout_prob,\n",
    "        attention_probs_dropout_prob=CFG.attention_probs_dropout_prob,\n",
    "        max_length=CFG.max_length\n",
    "    )\n",
    "\n",
    "    rmse = mean_squared_error(train[target], train[f\"{target}_{CFG.model_name_2}\"], squared=False)\n",
    "    print(f\"cv {target} rmse: {rmse}\")\n",
    "    print(f'现在是{CFG.model_name_2}_{target}的test')\n",
    "    \n",
    "    test = predict(\n",
    "        test,\n",
    "        target=target,\n",
    "        save_each_model=True,\n",
    "        model_name=CFG.model_name_2,\n",
    "        hidden_dropout_prob=CFG.hidden_dropout_prob,\n",
    "        attention_probs_dropout_prob=CFG.attention_probs_dropout_prob,\n",
    "        max_length=CFG.max_length\n",
    "    )\n",
    "#######################################------model_name_3------#############################################\n",
    "    print('*'*30)\n",
    "    \n",
    "    #model3\n",
    "    print(f'现在是{CFG.model_name_3}_{target}的validate')\n",
    "    \n",
    "    train = validate(\n",
    "        train,\n",
    "        target=target,\n",
    "        save_each_model=True,\n",
    "        model_name=CFG.model_name_3,\n",
    "        hidden_dropout_prob=CFG.hidden_dropout_prob,\n",
    "        attention_probs_dropout_prob=CFG.attention_probs_dropout_prob,\n",
    "        max_length=CFG.max_length\n",
    "    )\n",
    "\n",
    "    rmse = mean_squared_error(train[target], train[f\"{target}_{CFG.model_name_3}\"], squared=False)\n",
    "    print(f\"cv {target} rmse: {rmse}\")\n",
    "    print(f'现在是{CFG.model_name_3}_{target}的test')\n",
    "    \n",
    "    test = predict(\n",
    "        test,\n",
    "        target=target,\n",
    "        save_each_model=True,\n",
    "        model_name=CFG.model_name_3,\n",
    "        hidden_dropout_prob=CFG.hidden_dropout_prob,\n",
    "        attention_probs_dropout_prob=CFG.attention_probs_dropout_prob,\n",
    "        max_length=CFG.max_length\n",
    "    )\n",
    "#######################################------model_name_4------#############################################\n",
    "    print('*'*30)\n",
    "\n",
    "    print(f'现在是{CFG.model_name_4}_{target}的validate')\n",
    "    train = validate(\n",
    "        train,\n",
    "        target=target,\n",
    "        save_each_model=True,\n",
    "        model_name=CFG.model_name_4,\n",
    "        hidden_dropout_prob=CFG.hidden_dropout_prob,\n",
    "        attention_probs_dropout_prob=CFG.attention_probs_dropout_prob,\n",
    "        max_length=CFG.max_length\n",
    "    )\n",
    "\n",
    "    rmse = mean_squared_error(train[target], train[f\"{target}_{CFG.model_name_4}\"], squared=False)\n",
    "    print(f\"cv {target} rmse: {rmse}\")\n",
    "    print(f'现在是{CFG.model_name_4}_{target}的test')\n",
    "    \n",
    "    test = predict(\n",
    "        test,\n",
    "        target=target,\n",
    "        save_each_model=True,\n",
    "        model_name=CFG.model_name_4,\n",
    "        hidden_dropout_prob=CFG.hidden_dropout_prob,\n",
    "        attention_probs_dropout_prob=CFG.attention_probs_dropout_prob,\n",
    "        max_length=CFG.max_length\n",
    "    )\n",
    "\n",
    "################################------model_name_5------####################################################\n",
    "\n",
    "    print('*'*30)\n",
    "\n",
    "    print(f'现在是{CFG.model_name_5}_{target}的validate')\n",
    "    train = validate(\n",
    "        train,\n",
    "        target=target,\n",
    "        save_each_model=False,\n",
    "        model_name=CFG.model_name_5,\n",
    "        hidden_dropout_prob=CFG.hidden_dropout_prob,\n",
    "        attention_probs_dropout_prob=CFG.attention_probs_dropout_prob,\n",
    "        max_length=CFG.max_length\n",
    "    )\n",
    "\n",
    "    rmse = mean_squared_error(train[target], train[f\"{target}_{CFG.model_name_5}\"], squared=False)\n",
    "    print(f\"cv {target} rmse: {rmse}\")\n",
    "    print(f'现在是{CFG.model_name_5}_{target}的test')\n",
    "    \n",
    "    test = predict(\n",
    "        test,\n",
    "        target=target,\n",
    "        save_each_model=False,\n",
    "        model_name=CFG.model_name_5,\n",
    "        hidden_dropout_prob=CFG.hidden_dropout_prob,\n",
    "        attention_probs_dropout_prob=CFG.attention_probs_dropout_prob,\n",
    "        max_length=CFG.max_length\n",
    "    )\n",
    "    \n",
    "over_tiem =time.time()\n",
    "print(\"耗时\",start_time-over_tiem)"
   ]
  },
  {
   "cell_type": "code",
   "execution_count": 12,
   "id": "bb27010e",
   "metadata": {
    "execution": {
     "iopub.execute_input": "2023-10-08T09:01:58.495721Z",
     "iopub.status.busy": "2023-10-08T09:01:58.495494Z",
     "iopub.status.idle": "2023-10-08T09:01:58.501832Z",
     "shell.execute_reply": "2023-10-08T09:01:58.501057Z"
    },
    "papermill": {
     "duration": 0.026906,
     "end_time": "2023-10-08T09:01:58.503937",
     "exception": false,
     "start_time": "2023-10-08T09:01:58.477031",
     "status": "completed"
    },
    "tags": []
   },
   "outputs": [
    {
     "name": "stdout",
     "output_type": "stream",
     "text": [
      "Index(['student_id', 'prompt_id', 'text', 'summary_length',\n",
      "       'fixed_summary_text', 'splling_err_num', 'prompt_question',\n",
      "       'prompt_title', 'prompt_text', 'prompt_length', 'length_ratio',\n",
      "       'word_overlap_count', 'bigram_overlap_count', 'bigram_overlap_ratio',\n",
      "       'trigram_overlap_count', 'trigram_overlap_ratio', 'quotes_count',\n",
      "       'input', 'content_debertav3base_0', 'content_debertav3base_1',\n",
      "       'content_debertav3base_2', 'content_debertav3base_3',\n",
      "       'content_debertav3base', 'content_debertav3large_0',\n",
      "       'content_debertav3large_1', 'content_debertav3large_2',\n",
      "       'content_debertav3large_3', 'content_debertav3large',\n",
      "       'content_robertalarge_0', 'content_robertalarge_1',\n",
      "       'content_robertalarge_2', 'content_robertalarge_3',\n",
      "       'content_robertalarge', 'content_debertav3huge_0',\n",
      "       'content_debertav3huge_1', 'content_debertav3huge_2',\n",
      "       'content_debertav3huge_3', 'content_debertav3huge',\n",
      "       'content_debertav3base_single_0', 'content_debertav3base_single_1',\n",
      "       'content_debertav3base_single_2', 'content_debertav3base_single_3',\n",
      "       'content_debertav3base_single', 'wording_debertav3base_0',\n",
      "       'wording_debertav3base_1', 'wording_debertav3base_2',\n",
      "       'wording_debertav3base_3', 'wording_debertav3base',\n",
      "       'wording_debertav3large_0', 'wording_debertav3large_1',\n",
      "       'wording_debertav3large_2', 'wording_debertav3large_3',\n",
      "       'wording_debertav3large', 'wording_robertalarge_0',\n",
      "       'wording_robertalarge_1', 'wording_robertalarge_2',\n",
      "       'wording_robertalarge_3', 'wording_robertalarge',\n",
      "       'wording_debertav3huge_0', 'wording_debertav3huge_1',\n",
      "       'wording_debertav3huge_2', 'wording_debertav3huge_3',\n",
      "       'wording_debertav3huge', 'wording_debertav3base_single_0',\n",
      "       'wording_debertav3base_single_1', 'wording_debertav3base_single_2',\n",
      "       'wording_debertav3base_single_3', 'wording_debertav3base_single'],\n",
      "      dtype='object')\n"
     ]
    }
   ],
   "source": [
    "print(test.columns)"
   ]
  },
  {
   "cell_type": "code",
   "execution_count": 13,
   "id": "2c93f333",
   "metadata": {
    "execution": {
     "iopub.execute_input": "2023-10-08T09:01:58.539350Z",
     "iopub.status.busy": "2023-10-08T09:01:58.539159Z",
     "iopub.status.idle": "2023-10-08T09:01:58.543648Z",
     "shell.execute_reply": "2023-10-08T09:01:58.542914Z"
    },
    "papermill": {
     "duration": 0.023584,
     "end_time": "2023-10-08T09:01:58.545434",
     "exception": false,
     "start_time": "2023-10-08T09:01:58.521850",
     "status": "completed"
    },
    "tags": []
   },
   "outputs": [
    {
     "name": "stdout",
     "output_type": "stream",
     "text": [
      "Index(['student_id', 'prompt_id', 'text', 'content', 'wording',\n",
      "       'summary_length', 'fixed_summary_text', 'splling_err_num',\n",
      "       'prompt_question', 'prompt_title', 'prompt_text', 'prompt_length',\n",
      "       'length_ratio', 'word_overlap_count', 'bigram_overlap_count',\n",
      "       'bigram_overlap_ratio', 'trigram_overlap_count',\n",
      "       'trigram_overlap_ratio', 'quotes_count', 'fold',\n",
      "       'content_debertav3base', 'content_debertav3large',\n",
      "       'content_robertalarge', 'content_debertav3huge',\n",
      "       'content_debertav3base_single', 'wording_debertav3base',\n",
      "       'wording_debertav3large', 'wording_robertalarge',\n",
      "       'wording_debertav3huge', 'wording_debertav3base_single'],\n",
      "      dtype='object')\n"
     ]
    }
   ],
   "source": [
    "print(train.columns)"
   ]
  },
  {
   "cell_type": "markdown",
   "id": "5d3084a4",
   "metadata": {
    "papermill": {
     "duration": 0.017833,
     "end_time": "2023-10-08T09:01:58.578550",
     "exception": false,
     "start_time": "2023-10-08T09:01:58.560717",
     "status": "completed"
    },
    "tags": []
   },
   "source": [
    "# 在此处进行数据分析"
   ]
  },
  {
   "cell_type": "code",
   "execution_count": 14,
   "id": "bea88b2d",
   "metadata": {
    "execution": {
     "iopub.execute_input": "2023-10-08T09:01:58.611189Z",
     "iopub.status.busy": "2023-10-08T09:01:58.610721Z",
     "iopub.status.idle": "2023-10-08T09:01:58.614870Z",
     "shell.execute_reply": "2023-10-08T09:01:58.613990Z"
    },
    "papermill": {
     "duration": 0.022469,
     "end_time": "2023-10-08T09:01:58.616521",
     "exception": false,
     "start_time": "2023-10-08T09:01:58.594052",
     "status": "completed"
    },
    "tags": []
   },
   "outputs": [],
   "source": [
    "targets = [\"content\", \"wording\"]\n",
    "\n",
    "drop_columns = [\"fold\", \"student_id\", \"prompt_id\", \"text\", \"fixed_summary_text\",\n",
    "                \"prompt_question\", \"prompt_title\", \n",
    "                \"prompt_text\"\n",
    "               ] + targets\n"
   ]
  },
  {
   "cell_type": "code",
   "execution_count": 15,
   "id": "6be024a1",
   "metadata": {
    "execution": {
     "iopub.execute_input": "2023-10-08T09:01:58.648480Z",
     "iopub.status.busy": "2023-10-08T09:01:58.648084Z",
     "iopub.status.idle": "2023-10-08T09:01:58.662289Z",
     "shell.execute_reply": "2023-10-08T09:01:58.661388Z"
    },
    "papermill": {
     "duration": 0.032422,
     "end_time": "2023-10-08T09:01:58.664069",
     "exception": false,
     "start_time": "2023-10-08T09:01:58.631647",
     "status": "completed"
    },
    "tags": []
   },
   "outputs": [
    {
     "data": {
      "text/plain": [
       "Index(['summary_length', 'splling_err_num', 'prompt_length', 'length_ratio',\n",
       "       'word_overlap_count', 'bigram_overlap_count', 'bigram_overlap_ratio',\n",
       "       'trigram_overlap_count', 'trigram_overlap_ratio', 'quotes_count',\n",
       "       'content_debertav3base', 'content_debertav3large',\n",
       "       'content_robertalarge', 'content_debertav3huge',\n",
       "       'content_debertav3base_single', 'wording_debertav3base',\n",
       "       'wording_debertav3large', 'wording_robertalarge',\n",
       "       'wording_debertav3huge', 'wording_debertav3base_single'],\n",
       "      dtype='object')"
      ]
     },
     "execution_count": 15,
     "metadata": {},
     "output_type": "execute_result"
    }
   ],
   "source": [
    "train[train[\"fold\"] != 1].drop(columns=drop_columns).columns"
   ]
  },
  {
   "cell_type": "code",
   "execution_count": 16,
   "id": "99b121b9",
   "metadata": {
    "execution": {
     "iopub.execute_input": "2023-10-08T09:01:58.697716Z",
     "iopub.status.busy": "2023-10-08T09:01:58.697071Z",
     "iopub.status.idle": "2023-10-08T09:02:00.021176Z",
     "shell.execute_reply": "2023-10-08T09:02:00.020036Z"
    },
    "papermill": {
     "duration": 1.342771,
     "end_time": "2023-10-08T09:02:00.022893",
     "exception": false,
     "start_time": "2023-10-08T09:01:58.680122",
     "status": "completed"
    },
    "tags": []
   },
   "outputs": [
    {
     "name": "stdout",
     "output_type": "stream",
     "text": [
      "Training until validation scores don't improve for 30 rounds\n",
      "Early stopping, best iteration is:\n",
      "[54]\ttrain's rmse: 0.400476\n",
      "Training until validation scores don't improve for 30 rounds\n",
      "[100]\ttrain's rmse: 0.455226\n",
      "Early stopping, best iteration is:\n",
      "[108]\ttrain's rmse: 0.454782\n",
      "Training until validation scores don't improve for 30 rounds\n",
      "[100]\ttrain's rmse: 0.440447\n",
      "Early stopping, best iteration is:\n",
      "[87]\ttrain's rmse: 0.439111\n",
      "Training until validation scores don't improve for 30 rounds\n",
      "[100]\ttrain's rmse: 0.481754\n",
      "[200]\ttrain's rmse: 0.47622\n",
      "Early stopping, best iteration is:\n",
      "[193]\ttrain's rmse: 0.47586\n",
      "Training until validation scores don't improve for 30 rounds\n",
      "[100]\ttrain's rmse: 0.503573\n",
      "Early stopping, best iteration is:\n",
      "[105]\ttrain's rmse: 0.503414\n",
      "Training until validation scores don't improve for 30 rounds\n",
      "[100]\ttrain's rmse: 0.683421\n",
      "Early stopping, best iteration is:\n",
      "[75]\ttrain's rmse: 0.680609\n",
      "Training until validation scores don't improve for 30 rounds\n",
      "[100]\ttrain's rmse: 0.493069\n",
      "Early stopping, best iteration is:\n",
      "[124]\ttrain's rmse: 0.492315\n",
      "Training until validation scores don't improve for 30 rounds\n",
      "[100]\ttrain's rmse: 0.62716\n",
      "Early stopping, best iteration is:\n",
      "[108]\ttrain's rmse: 0.625972\n"
     ]
    }
   ],
   "source": [
    "model_dict = {}\n",
    "\n",
    "for target in targets:\n",
    "    models = []\n",
    "    \n",
    "    for fold in range(CFG.n_splits):\n",
    "\n",
    "        X_train_cv = train[train[\"fold\"] != fold].drop(columns=drop_columns)\n",
    "        y_train_cv = train[train[\"fold\"] != fold][target]\n",
    "\n",
    "        X_eval_cv = train[train[\"fold\"] == fold].drop(columns=drop_columns)\n",
    "        y_eval_cv = train[train[\"fold\"] == fold][target]\n",
    "\n",
    "        dtrain = lgb.Dataset(X_train_cv, label=y_train_cv)\n",
    "        dval = lgb.Dataset(X_eval_cv, label=y_eval_cv)\n",
    "\n",
    "        params = {\n",
    "            'boosting_type': 'gbdt',\n",
    "            'random_state': 42,\n",
    "            'objective': 'regression',\n",
    "            'metric': 'rmse',\n",
    "            'learning_rate': 0.048,\n",
    "            'max_depth': 4,  #3\n",
    "            'lambda_l1': 0.0,\n",
    "            'lambda_l2': 0.011,\n",
    "            'verbose':-1\n",
    "        }\n",
    "\n",
    "        evaluation_results = {}\n",
    "        model = lgb.train(params,\n",
    "                          num_boost_round=10000,\n",
    "                            #categorical_feature = categorical_features,\n",
    "                          valid_names=['train', 'valid'],\n",
    "                          train_set=dtrain,\n",
    "                          valid_sets=dval,\n",
    "                          callbacks=[\n",
    "                              lgb.early_stopping(stopping_rounds=30, verbose=True),\n",
    "                               lgb.log_evaluation(100),\n",
    "                              lgb.callback.record_evaluation(evaluation_results)\n",
    "                            ],\n",
    "                          )\n",
    "        models.append(model)\n",
    "    \n",
    "    model_dict[target] = models"
   ]
  },
  {
   "cell_type": "code",
   "execution_count": 17,
   "id": "165b703e",
   "metadata": {
    "execution": {
     "iopub.execute_input": "2023-10-08T09:02:00.056768Z",
     "iopub.status.busy": "2023-10-08T09:02:00.056516Z",
     "iopub.status.idle": "2023-10-08T09:02:00.153183Z",
     "shell.execute_reply": "2023-10-08T09:02:00.152202Z"
    },
    "papermill": {
     "duration": 0.115801,
     "end_time": "2023-10-08T09:02:00.154945",
     "exception": false,
     "start_time": "2023-10-08T09:02:00.039144",
     "status": "completed"
    },
    "tags": []
   },
   "outputs": [
    {
     "name": "stdout",
     "output_type": "stream",
     "text": [
      "content_rmse : 0.43887371245840207\n",
      "wording_rmse : 0.5748753036305583\n",
      "mcrmse : 0.5068745080444802\n"
     ]
    }
   ],
   "source": [
    "# cv\n",
    "rmses = []\n",
    "\n",
    "for target in targets:\n",
    "    models = model_dict[target]\n",
    "\n",
    "    preds = []\n",
    "    trues = []\n",
    "    \n",
    "    for fold, model in enumerate(models):\n",
    "        X_eval_cv = train[train[\"fold\"] == fold].drop(columns=drop_columns)\n",
    "        y_eval_cv = train[train[\"fold\"] == fold][target]\n",
    "\n",
    "        pred = model.predict(X_eval_cv)\n",
    "\n",
    "        trues.extend(y_eval_cv)\n",
    "        preds.extend(pred)\n",
    "        \n",
    "    rmse = np.sqrt(mean_squared_error(trues, preds))\n",
    "    print(f\"{target}_rmse : {rmse}\")\n",
    "    rmses = rmses + [rmse]\n",
    "\n",
    "print(f\"mcrmse : {sum(rmses) / len(rmses)}\")"
   ]
  },
  {
   "cell_type": "markdown",
   "id": "2e531372",
   "metadata": {
    "papermill": {
     "duration": 0.016689,
     "end_time": "2023-10-08T09:02:00.188310",
     "exception": false,
     "start_time": "2023-10-08T09:02:00.171621",
     "status": "completed"
    },
    "tags": []
   },
   "source": [
    "## Predict"
   ]
  },
  {
   "cell_type": "code",
   "execution_count": 18,
   "id": "69cc86f1",
   "metadata": {
    "execution": {
     "iopub.execute_input": "2023-10-08T09:02:00.221845Z",
     "iopub.status.busy": "2023-10-08T09:02:00.221596Z",
     "iopub.status.idle": "2023-10-08T09:02:00.227516Z",
     "shell.execute_reply": "2023-10-08T09:02:00.226581Z"
    },
    "papermill": {
     "duration": 0.024474,
     "end_time": "2023-10-08T09:02:00.229186",
     "exception": false,
     "start_time": "2023-10-08T09:02:00.204712",
     "status": "completed"
    },
    "tags": []
   },
   "outputs": [],
   "source": [
    "drop_columns = [\n",
    "    \"student_id\", \"prompt_id\", \"text\", \"fixed_summary_text\",\n",
    "    \"prompt_question\", \"prompt_title\", \n",
    "    \"prompt_text\",\n",
    "    \"input\"\n",
    "] + [\n",
    "    f\"content_debertav3base_{i}\" for i in range(CFG.n_splits)\n",
    "] + [\n",
    "    f\"content_debertav3large_{i}\" for i in range(CFG.n_splits)\n",
    "] + [\n",
    "    f\"wording_debertav3base_{i}\" for i in range(CFG.n_splits)\n",
    "] + [\n",
    "    f\"wording_debertav3large_{i}\" for i in range(CFG.n_splits)\n",
    "] + [\n",
    "    f\"content_robertalarge_{i}\" for i in range(CFG.n_splits)\n",
    "] + [\n",
    "    f\"wording_robertalarge_{i}\" for i in range(CFG.n_splits)\n",
    "] + [\n",
    "    f\"content_debertav3huge_{i}\" for i in range(CFG.n_splits)\n",
    "] + [\n",
    "    f\"wording_debertav3huge_{i}\" for i in range(CFG.n_splits)\n",
    "] + [\n",
    "    f\"content_debertav3base_single_{i}\" for i in range(CFG.n_splits)\n",
    "] + [\n",
    "    f\"wording_debertav3base_single_{i}\" for i in range(CFG.n_splits)\n",
    "]\n"
   ]
  },
  {
   "cell_type": "code",
   "execution_count": 19,
   "id": "42ad6a9b",
   "metadata": {
    "execution": {
     "iopub.execute_input": "2023-10-08T09:02:00.262304Z",
     "iopub.status.busy": "2023-10-08T09:02:00.262123Z",
     "iopub.status.idle": "2023-10-08T09:02:00.269038Z",
     "shell.execute_reply": "2023-10-08T09:02:00.268200Z"
    },
    "papermill": {
     "duration": 0.025755,
     "end_time": "2023-10-08T09:02:00.270643",
     "exception": false,
     "start_time": "2023-10-08T09:02:00.244888",
     "status": "completed"
    },
    "tags": []
   },
   "outputs": [
    {
     "data": {
      "text/plain": [
       "Index(['summary_length', 'splling_err_num', 'prompt_length', 'length_ratio',\n",
       "       'word_overlap_count', 'bigram_overlap_count', 'bigram_overlap_ratio',\n",
       "       'trigram_overlap_count', 'trigram_overlap_ratio', 'quotes_count',\n",
       "       'content_debertav3base', 'content_debertav3large',\n",
       "       'content_robertalarge', 'content_debertav3huge',\n",
       "       'content_debertav3base_single', 'wording_debertav3base',\n",
       "       'wording_debertav3large', 'wording_robertalarge',\n",
       "       'wording_debertav3huge', 'wording_debertav3base_single'],\n",
       "      dtype='object')"
      ]
     },
     "execution_count": 19,
     "metadata": {},
     "output_type": "execute_result"
    }
   ],
   "source": [
    "test.drop(columns=drop_columns).columns"
   ]
  },
  {
   "cell_type": "markdown",
   "id": "53618217",
   "metadata": {
    "papermill": {
     "duration": 0.015642,
     "end_time": "2023-10-08T09:02:00.302370",
     "exception": false,
     "start_time": "2023-10-08T09:02:00.286728",
     "status": "completed"
    },
    "tags": []
   },
   "source": [
    "# 使用LGB进行预测"
   ]
  },
  {
   "cell_type": "code",
   "execution_count": 20,
   "id": "acab8732",
   "metadata": {
    "execution": {
     "iopub.execute_input": "2023-10-08T09:02:00.336180Z",
     "iopub.status.busy": "2023-10-08T09:02:00.335988Z",
     "iopub.status.idle": "2023-10-08T09:02:00.352069Z",
     "shell.execute_reply": "2023-10-08T09:02:00.351239Z"
    },
    "papermill": {
     "duration": 0.034775,
     "end_time": "2023-10-08T09:02:00.353753",
     "exception": false,
     "start_time": "2023-10-08T09:02:00.318978",
     "status": "completed"
    },
    "tags": []
   },
   "outputs": [],
   "source": [
    "\n",
    "pred_dict = {}  # 创建一个空字典，用于存储预测结果\n",
    "for target in targets:  \n",
    "    models = model_dict[target]  # 获取当前目标的模型列表\n",
    "    preds = []  # 创建一个空列表，用于存储预测结果\n",
    "    for fold, model in enumerate(models):  # 遍历当前目标的每个折中的模型\n",
    "        X_eval_cv = test.drop(columns=drop_columns)  # 获取测试数据，并删除不需要的列\n",
    "        pred = model.predict(X_eval_cv)  # 对测试数据进行预测#LGB\n",
    "        preds.append(pred)  # 将预测结果添加到列表中\n",
    "    pred_dict[target] = preds  # 将当前目标的预测结果列表存储到预测字典中\n"
   ]
  },
  {
   "cell_type": "code",
   "execution_count": 21,
   "id": "7b9eabd6",
   "metadata": {
    "execution": {
     "iopub.execute_input": "2023-10-08T09:02:00.386960Z",
     "iopub.status.busy": "2023-10-08T09:02:00.386610Z",
     "iopub.status.idle": "2023-10-08T09:02:00.394095Z",
     "shell.execute_reply": "2023-10-08T09:02:00.393213Z"
    },
    "papermill": {
     "duration": 0.026372,
     "end_time": "2023-10-08T09:02:00.396146",
     "exception": false,
     "start_time": "2023-10-08T09:02:00.369774",
     "status": "completed"
    },
    "tags": []
   },
   "outputs": [
    {
     "data": {
      "text/plain": [
       "{'content': [array([-1.22840834, -1.22840834, -1.22840834, -1.22840834]),\n",
       "  array([-1.13469705, -1.13469705, -1.13469705, -1.13469705]),\n",
       "  array([-1.58071948, -1.58071948, -1.58071948, -1.58071948]),\n",
       "  array([-1.62929385, -1.62929385, -1.65796862, -1.65796862])],\n",
       " 'wording': [array([-1.35832507, -1.35832507, -1.35832507, -1.34417148]),\n",
       "  array([-1.19091336, -1.19091336, -1.19091336, -1.19091336]),\n",
       "  array([-1.48859074, -1.48859074, -1.48859074, -1.47599594]),\n",
       "  array([-1.44453214, -1.44453214, -1.44927576, -1.43232973])]}"
      ]
     },
     "execution_count": 21,
     "metadata": {},
     "output_type": "execute_result"
    }
   ],
   "source": [
    "pred_dict"
   ]
  },
  {
   "cell_type": "code",
   "execution_count": 22,
   "id": "d298cf30",
   "metadata": {
    "execution": {
     "iopub.execute_input": "2023-10-08T09:02:00.432913Z",
     "iopub.status.busy": "2023-10-08T09:02:00.432509Z",
     "iopub.status.idle": "2023-10-08T09:02:00.442794Z",
     "shell.execute_reply": "2023-10-08T09:02:00.442018Z"
    },
    "papermill": {
     "duration": 0.028988,
     "end_time": "2023-10-08T09:02:00.444376",
     "exception": false,
     "start_time": "2023-10-08T09:02:00.415388",
     "status": "completed"
    },
    "tags": []
   },
   "outputs": [],
   "source": [
    "for target in targets:  # 遍历目标列表中的每一个目标\n",
    "    preds = pred_dict[target]  # 获取当前目标的预测结果列表#LGB的预测结果\n",
    "    \n",
    "    for i, pred in enumerate(preds):  # 遍历当前目标的每个折中的预测结果\n",
    "        test[f\"{target}_pred_{i}\"] = pred  # 将预测结果添加到测试数据中，创建新的列名\n",
    "    test[f'{target}'] = test[[f\"{target}_pred_{fold}\" for fold in range(CFG.n_splits)]].mean(axis=1)        "
   ]
  },
  {
   "cell_type": "code",
   "execution_count": 23,
   "id": "dc6d2659",
   "metadata": {
    "execution": {
     "iopub.execute_input": "2023-10-08T09:02:00.478823Z",
     "iopub.status.busy": "2023-10-08T09:02:00.478266Z",
     "iopub.status.idle": "2023-10-08T09:02:00.503449Z",
     "shell.execute_reply": "2023-10-08T09:02:00.502359Z"
    },
    "papermill": {
     "duration": 0.043904,
     "end_time": "2023-10-08T09:02:00.505149",
     "exception": false,
     "start_time": "2023-10-08T09:02:00.461245",
     "status": "completed"
    },
    "tags": []
   },
   "outputs": [
    {
     "data": {
      "text/html": [
       "<div>\n",
       "<style scoped>\n",
       "    .dataframe tbody tr th:only-of-type {\n",
       "        vertical-align: middle;\n",
       "    }\n",
       "\n",
       "    .dataframe tbody tr th {\n",
       "        vertical-align: top;\n",
       "    }\n",
       "\n",
       "    .dataframe thead th {\n",
       "        text-align: right;\n",
       "    }\n",
       "</style>\n",
       "<table border=\"1\" class=\"dataframe\">\n",
       "  <thead>\n",
       "    <tr style=\"text-align: right;\">\n",
       "      <th></th>\n",
       "      <th>student_id</th>\n",
       "      <th>prompt_id</th>\n",
       "      <th>text</th>\n",
       "      <th>summary_length</th>\n",
       "      <th>fixed_summary_text</th>\n",
       "      <th>splling_err_num</th>\n",
       "      <th>prompt_question</th>\n",
       "      <th>prompt_title</th>\n",
       "      <th>prompt_text</th>\n",
       "      <th>prompt_length</th>\n",
       "      <th>...</th>\n",
       "      <th>content_pred_0</th>\n",
       "      <th>content_pred_1</th>\n",
       "      <th>content_pred_2</th>\n",
       "      <th>content_pred_3</th>\n",
       "      <th>content</th>\n",
       "      <th>wording_pred_0</th>\n",
       "      <th>wording_pred_1</th>\n",
       "      <th>wording_pred_2</th>\n",
       "      <th>wording_pred_3</th>\n",
       "      <th>wording</th>\n",
       "    </tr>\n",
       "  </thead>\n",
       "  <tbody>\n",
       "    <tr>\n",
       "      <th>0</th>\n",
       "      <td>000000ffffff</td>\n",
       "      <td>abc123</td>\n",
       "      <td>Example text 1</td>\n",
       "      <td>3</td>\n",
       "      <td>Example text 1</td>\n",
       "      <td>0</td>\n",
       "      <td>Summarize...</td>\n",
       "      <td>Example Title 1</td>\n",
       "      <td>Heading\\nText...</td>\n",
       "      <td>3</td>\n",
       "      <td>...</td>\n",
       "      <td>-1.228408</td>\n",
       "      <td>-1.134697</td>\n",
       "      <td>-1.580719</td>\n",
       "      <td>-1.629294</td>\n",
       "      <td>-1.393280</td>\n",
       "      <td>-1.358325</td>\n",
       "      <td>-1.190913</td>\n",
       "      <td>-1.488591</td>\n",
       "      <td>-1.444532</td>\n",
       "      <td>-1.370590</td>\n",
       "    </tr>\n",
       "    <tr>\n",
       "      <th>1</th>\n",
       "      <td>111111eeeeee</td>\n",
       "      <td>def789</td>\n",
       "      <td>Example text 2</td>\n",
       "      <td>3</td>\n",
       "      <td>Example text 2</td>\n",
       "      <td>0</td>\n",
       "      <td>Summarize...</td>\n",
       "      <td>Example Title 2</td>\n",
       "      <td>Heading\\nText...</td>\n",
       "      <td>3</td>\n",
       "      <td>...</td>\n",
       "      <td>-1.228408</td>\n",
       "      <td>-1.134697</td>\n",
       "      <td>-1.580719</td>\n",
       "      <td>-1.629294</td>\n",
       "      <td>-1.393280</td>\n",
       "      <td>-1.358325</td>\n",
       "      <td>-1.190913</td>\n",
       "      <td>-1.488591</td>\n",
       "      <td>-1.444532</td>\n",
       "      <td>-1.370590</td>\n",
       "    </tr>\n",
       "    <tr>\n",
       "      <th>2</th>\n",
       "      <td>222222cccccc</td>\n",
       "      <td>abc123</td>\n",
       "      <td>Example text 3</td>\n",
       "      <td>3</td>\n",
       "      <td>Example text 3</td>\n",
       "      <td>0</td>\n",
       "      <td>Summarize...</td>\n",
       "      <td>Example Title 1</td>\n",
       "      <td>Heading\\nText...</td>\n",
       "      <td>3</td>\n",
       "      <td>...</td>\n",
       "      <td>-1.228408</td>\n",
       "      <td>-1.134697</td>\n",
       "      <td>-1.580719</td>\n",
       "      <td>-1.657969</td>\n",
       "      <td>-1.400448</td>\n",
       "      <td>-1.358325</td>\n",
       "      <td>-1.190913</td>\n",
       "      <td>-1.488591</td>\n",
       "      <td>-1.449276</td>\n",
       "      <td>-1.371776</td>\n",
       "    </tr>\n",
       "    <tr>\n",
       "      <th>3</th>\n",
       "      <td>333333dddddd</td>\n",
       "      <td>def789</td>\n",
       "      <td>Example text 4</td>\n",
       "      <td>3</td>\n",
       "      <td>Example text 4</td>\n",
       "      <td>0</td>\n",
       "      <td>Summarize...</td>\n",
       "      <td>Example Title 2</td>\n",
       "      <td>Heading\\nText...</td>\n",
       "      <td>3</td>\n",
       "      <td>...</td>\n",
       "      <td>-1.228408</td>\n",
       "      <td>-1.134697</td>\n",
       "      <td>-1.580719</td>\n",
       "      <td>-1.657969</td>\n",
       "      <td>-1.400448</td>\n",
       "      <td>-1.344171</td>\n",
       "      <td>-1.190913</td>\n",
       "      <td>-1.475996</td>\n",
       "      <td>-1.432330</td>\n",
       "      <td>-1.360853</td>\n",
       "    </tr>\n",
       "  </tbody>\n",
       "</table>\n",
       "<p>4 rows × 78 columns</p>\n",
       "</div>"
      ],
      "text/plain": [
       "     student_id prompt_id            text  summary_length fixed_summary_text  \\\n",
       "0  000000ffffff    abc123  Example text 1               3     Example text 1   \n",
       "1  111111eeeeee    def789  Example text 2               3     Example text 2   \n",
       "2  222222cccccc    abc123  Example text 3               3     Example text 3   \n",
       "3  333333dddddd    def789  Example text 4               3     Example text 4   \n",
       "\n",
       "   splling_err_num prompt_question     prompt_title       prompt_text  \\\n",
       "0                0    Summarize...  Example Title 1  Heading\\nText...   \n",
       "1                0    Summarize...  Example Title 2  Heading\\nText...   \n",
       "2                0    Summarize...  Example Title 1  Heading\\nText...   \n",
       "3                0    Summarize...  Example Title 2  Heading\\nText...   \n",
       "\n",
       "   prompt_length  ...  content_pred_0  content_pred_1  content_pred_2  \\\n",
       "0              3  ...       -1.228408       -1.134697       -1.580719   \n",
       "1              3  ...       -1.228408       -1.134697       -1.580719   \n",
       "2              3  ...       -1.228408       -1.134697       -1.580719   \n",
       "3              3  ...       -1.228408       -1.134697       -1.580719   \n",
       "\n",
       "   content_pred_3   content  wording_pred_0  wording_pred_1 wording_pred_2  \\\n",
       "0       -1.629294 -1.393280       -1.358325       -1.190913      -1.488591   \n",
       "1       -1.629294 -1.393280       -1.358325       -1.190913      -1.488591   \n",
       "2       -1.657969 -1.400448       -1.358325       -1.190913      -1.488591   \n",
       "3       -1.657969 -1.400448       -1.344171       -1.190913      -1.475996   \n",
       "\n",
       "   wording_pred_3   wording  \n",
       "0       -1.444532 -1.370590  \n",
       "1       -1.444532 -1.370590  \n",
       "2       -1.449276 -1.371776  \n",
       "3       -1.432330 -1.360853  \n",
       "\n",
       "[4 rows x 78 columns]"
      ]
     },
     "execution_count": 23,
     "metadata": {},
     "output_type": "execute_result"
    }
   ],
   "source": [
    "test"
   ]
  },
  {
   "cell_type": "markdown",
   "id": "029fdd63",
   "metadata": {
    "papermill": {
     "duration": 0.016984,
     "end_time": "2023-10-08T09:02:00.538476",
     "exception": false,
     "start_time": "2023-10-08T09:02:00.521492",
     "status": "completed"
    },
    "tags": []
   },
   "source": [
    "## Create Submission file"
   ]
  },
  {
   "cell_type": "code",
   "execution_count": 24,
   "id": "0561025e",
   "metadata": {
    "execution": {
     "iopub.execute_input": "2023-10-08T09:02:00.575777Z",
     "iopub.status.busy": "2023-10-08T09:02:00.575565Z",
     "iopub.status.idle": "2023-10-08T09:02:00.588332Z",
     "shell.execute_reply": "2023-10-08T09:02:00.587433Z"
    },
    "papermill": {
     "duration": 0.035582,
     "end_time": "2023-10-08T09:02:00.590452",
     "exception": false,
     "start_time": "2023-10-08T09:02:00.554870",
     "status": "completed"
    },
    "tags": []
   },
   "outputs": [],
   "source": [
    "test[[\"student_id\", \"content\", \"wording\"]].to_csv(\"submission.csv\", index=False)"
   ]
  }
 ],
 "metadata": {
  "kernelspec": {
   "display_name": "Python 3",
   "language": "python",
   "name": "python3"
  },
  "language_info": {
   "codemirror_mode": {
    "name": "ipython",
    "version": 3
   },
   "file_extension": ".py",
   "mimetype": "text/x-python",
   "name": "python",
   "nbconvert_exporter": "python",
   "pygments_lexer": "ipython3",
   "version": "3.10.12"
  },
  "papermill": {
   "default_parameters": {},
   "duration": 2772.719658,
   "end_time": "2023-10-08T09:02:03.880177",
   "environment_variables": {},
   "exception": null,
   "input_path": "__notebook__.ipynb",
   "output_path": "__notebook__.ipynb",
   "parameters": {},
   "start_time": "2023-10-08T08:15:51.160519",
   "version": "2.4.0"
  }
 },
 "nbformat": 4,
 "nbformat_minor": 5
}
