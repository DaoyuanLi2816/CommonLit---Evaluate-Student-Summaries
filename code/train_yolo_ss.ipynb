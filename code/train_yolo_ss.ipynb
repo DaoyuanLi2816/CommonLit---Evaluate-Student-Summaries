{
 "cells": [
  {
   "cell_type": "code",
   "execution_count": null,
   "metadata": {},
   "outputs": [],
   "source": [
    "import numpy as np\n",
    "import cv2\n",
    "import matplotlib.pyplot as plt\n",
    "from PIL import Image\n",
    "import glob\n",
    "import os\n",
    "from ultralytics import YOLO\n",
    "\n",
    "CONDITIONS = ['Left Subarticular Stenosis', 'Right Subarticular Stenosis']\n",
    "SEVERITIES = ['Normal/Mild', 'Moderate', 'Severe']\n",
    "LEVELS = ['l1_l2', 'l2_l3', 'l3_l4', 'l4_l5', 'l5_s1']\n",
    "\n",
    "OD_INPUT_SIZE = 384\n",
    "BATCH_SIZE = 64\n",
    "EPOCHS = 40\n",
    "\n",
    "model_name = \"yolov8s.pt\"\n",
    "project = \"SS_kaggle_datasets\"\n",
    "run_name = model_name.split('.')[0]"
   ]
  },
  {
   "cell_type": "code",
   "execution_count": null,
   "metadata": {},
   "outputs": [],
   "source": [
    "%%writefile yolo_ss.yaml\n",
    "path: /workspace/RSNA-LSDC/yolo/kaggle_dataset/ss_fold0\n",
    "train: images/train  \n",
    "val: images/valid \n",
    "test: images/valid \n",
    "\n",
    "# Classes\n",
    "names:\n",
    "    0: left_subarticular_stenosis_l1_l2_normal/mild\n",
    "    1: left_subarticular_stenosis_l1_l2_moderate\n",
    "    2: left_subarticular_stenosis_l1_l2_severe\n",
    "    3: left_subarticular_stenosis_l2_l3_normal/mild\n",
    "    4: left_subarticular_stenosis_l2_l3_moderate\n",
    "    5: left_subarticular_stenosis_l2_l3_severe\n",
    "    6: left_subarticular_stenosis_l3_l4_normal/mild\n",
    "    7: left_subarticular_stenosis_l3_l4_moderate\n",
    "    8: left_subarticular_stenosis_l3_l4_severe\n",
    "    9: left_subarticular_stenosis_l4_l5_normal/mild\n",
    "    10: left_subarticular_stenosis_l4_l5_moderate\n",
    "    11: left_subarticular_stenosis_l4_l5_severe\n",
    "    12: left_subarticular_stenosis_l5_s1_normal/mild\n",
    "    13: left_subarticular_stenosis_l5_s1_moderate\n",
    "    14: left_subarticular_stenosis_l5_s1_severe\n",
    "    15: right_subarticular_stenosis_l1_l2_normal/mild\n",
    "    16: right_subarticular_stenosis_l1_l2_moderate\n",
    "    17: right_subarticular_stenosis_l1_l2_severe\n",
    "    18: right_subarticular_stenosis_l2_l3_normal/mild\n",
    "    19: right_subarticular_stenosis_l2_l3_moderate\n",
    "    20: right_subarticular_stenosis_l2_l3_severe\n",
    "    21: right_subarticular_stenosis_l3_l4_normal/mild\n",
    "    22: right_subarticular_stenosis_l3_l4_moderate\n",
    "    23: right_subarticular_stenosis_l3_l4_severe\n",
    "    24: right_subarticular_stenosis_l4_l5_normal/mild\n",
    "    25: right_subarticular_stenosis_l4_l5_moderate\n",
    "    26: right_subarticular_stenosis_l4_l5_severe\n",
    "    27: right_subarticular_stenosis_l5_s1_normal/mild\n",
    "    28: right_subarticular_stenosis_l5_s1_moderate\n",
    "    29: right_subarticular_stenosis_l5_s1_severe"
   ]
  },
  {
   "cell_type": "code",
   "execution_count": null,
   "metadata": {},
   "outputs": [],
   "source": [
    "model = YOLO(model_name)\n",
    "\n",
    "model.train(\n",
    "    project=project, \n",
    "    name=run_name,\n",
    "    seed=42,\n",
    "    data=\"yolo_ss.yaml\", \n",
    "    epochs=EPOCHS, \n",
    "    imgsz=OD_INPUT_SIZE, \n",
    "    batch=BATCH_SIZE,\n",
    "    cls=0.5, # 类别损失权重\n",
    "    lrf=0.005, # 学习率\n",
    "    hsv_h=0.015, # HSV增强 Hue\n",
    "    hsv_s=0.7, # HSV增强 Saturation\n",
    "    hsv_v=0.4, # HSV增强 Value\n",
    "    scale=0.2, # 缩放\n",
    "    mixup=0.1, # Mixup\n",
    "    )"
   ]
  }
 ],
 "metadata": {
  "kernelspec": {
   "display_name": "base",
   "language": "python",
   "name": "python3"
  },
  "language_info": {
   "codemirror_mode": {
    "name": "ipython",
    "version": 3
   },
   "file_extension": ".py",
   "mimetype": "text/x-python",
   "name": "python",
   "nbconvert_exporter": "python",
   "pygments_lexer": "ipython3",
   "version": "3.10.10"
  }
 },
 "nbformat": 4,
 "nbformat_minor": 2
}
