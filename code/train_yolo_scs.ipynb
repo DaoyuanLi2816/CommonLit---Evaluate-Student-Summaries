{
 "cells": [
  {
   "cell_type": "code",
   "execution_count": null,
   "metadata": {},
   "outputs": [],
   "source": [
    "import numpy as np\n",
    "import cv2\n",
    "import matplotlib.pyplot as plt\n",
    "from PIL import Image\n",
    "import glob\n",
    "import os\n",
    "from ultralytics import YOLO\n",
    "\n",
    "CONDITIONS = ['Spinal Canal Stenosis']\n",
    "SEVERITIES = ['Normal/Mild', 'Moderate', 'Severe']\n",
    "LEVELS = ['l1_l2', 'l2_l3', 'l3_l4', 'l4_l5', 'l5_s1']\n",
    "\n",
    "OD_INPUT_SIZE = 384\n",
    "BATCH_SIZE = 64\n",
    "EPOCHS = 40\n",
    "\n",
    "model_name = \"yolov8s.pt\"\n",
    "project = \"CSC_kaggle_datasets\"\n",
    "run_name = model_name.split('.')[0]"
   ]
  },
  {
   "cell_type": "code",
   "execution_count": null,
   "metadata": {},
   "outputs": [],
   "source": [
    "%%writefile yolo_scs.yaml\n",
    "\n",
    "path: /workspace/RSNA-LSDC/yolo/kaggle_dataset/csc_fold0\n",
    "train: images/train  \n",
    "val: images/valid\n",
    "test: images/valid\n",
    "\n",
    "# Classes\n",
    "names:\n",
    "    0: spinal_canal_stenosis_l1_l2_normal/mild\n",
    "    1: spinal_canal_stenosis_l1_l2_moderate\n",
    "    2: spinal_canal_stenosis_l1_l2_severe\n",
    "    3: spinal_canal_stenosis_l2_l3_normal/mild\n",
    "    4: spinal_canal_stenosis_l2_l3_moderate\n",
    "    5: spinal_canal_stenosis_l2_l3_severe\n",
    "    6: spinal_canal_stenosis_l3_l4_normal/mild\n",
    "    7: spinal_canal_stenosis_l3_l4_moderate\n",
    "    8: spinal_canal_stenosis_l3_l4_severe\n",
    "    9: spinal_canal_stenosis_l4_l5_normal/mild\n",
    "    10: spinal_canal_stenosis_l4_l5_moderate\n",
    "    11: spinal_canal_stenosis_l4_l5_severe\n",
    "    12: spinal_canal_stenosis_l5_s1_normal/mild\n",
    "    13: spinal_canal_stenosis_l5_s1_moderate\n",
    "    14: spinal_canal_stenosis_l5_s1_severe"
   ]
  },
  {
   "cell_type": "code",
   "execution_count": null,
   "metadata": {},
   "outputs": [],
   "source": [
    "model = YOLO(model_name)\n",
    "\n",
    "model.train(\n",
    "    project=project, \n",
    "    name=run_name,\n",
    "    seed=42,\n",
    "    data=\"yolo_scs.yaml\", \n",
    "    epochs=EPOCHS, \n",
    "    imgsz=OD_INPUT_SIZE, \n",
    "    batch=BATCH_SIZE,\n",
    "    cls=1.0, # 类别损失权重\n",
    "    lrf=0.001, # 学习率\n",
    "    hsv_h=0.015, # HSV增强 Hue\n",
    "    hsv_s=0.7, # HSV增强 Saturation\n",
    "    hsv_v=0.4, # HSV增强 Value\n",
    "    degrees=0.0, # 旋转\n",
    "    translate=0.1, # 平移\n",
    "    scale=0.2, # 缩放\n",
    ")"
   ]
  }
 ],
 "metadata": {
  "kernelspec": {
   "display_name": "base",
   "language": "python",
   "name": "python3"
  },
  "language_info": {
   "codemirror_mode": {
    "name": "ipython",
    "version": 3
   },
   "file_extension": ".py",
   "mimetype": "text/x-python",
   "name": "python",
   "nbconvert_exporter": "python",
   "pygments_lexer": "ipython3",
   "version": "3.10.10"
  }
 },
 "nbformat": 4,
 "nbformat_minor": 2
}
